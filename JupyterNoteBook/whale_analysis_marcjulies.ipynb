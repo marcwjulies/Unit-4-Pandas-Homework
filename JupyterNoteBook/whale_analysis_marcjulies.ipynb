{
 "cells": [
  {
   "cell_type": "markdown",
   "metadata": {},
   "source": [
    "# Unit 4 -  A Whale off the Port(folio)\n",
    "\n",
    "\n",
    "## Table of Contents\n",
    "\n",
    "* [1. Objective](#1)\n",
    "* [2. Main Steps](#2)\n",
    "* [3. Source Files](#3)\n",
    "* [4. Data Cleaning](#4)\n",
    "    * [4.1 Whale Returns](#4_1)\n",
    "         * [4.1.1 Read Whale Returns Source Data](#4_1_1)\n",
    "         * [4.1.2 Profile Whale Returns Source Data](#4_1_2)\n",
    "         * [4.1.3 Cleanse Whale Returns Source Data](#4_1_3)\n",
    "    * [4.2 Algorithmic Daily Returns](#4_2)    \n",
    "         * [4.2.1 Read Algorithmic Daily Returns Source Data](#4_2_1)\n",
    "         * [4.2.2 Profile Algorithmic Daily Returns Source Data](#4_2_2)\n",
    "         * [4.2.3 Cleanse Algorithmic Daily Returns Source Data](#4_2_3)    \n",
    "    * [4.3 S&P TSX 60 Returns](#4_2)    \n",
    "         * [4.3.1 Read S&P TSX 60 Returns Source Data](#4_3_1)\n",
    "         * [4.3.2 Profile S&P TSX 60 Returns Source Data](#4_3_2)\n",
    "         * [4.3.3 S&P TSX 60 Returns Source Data](#4_3_3)        \n",
    "     * [4.4 Combine Whale, Algorithmic, and S&P TSX 60 Returns](#4_4)    \n",
    "* [5. Conduct Quantitative Analysis](#5)\n",
    "    * [5.1 Performance Analysis](#5_1)\n",
    "        * [5.1.1 Calculate and Plot the daily returns](#5_1_1)\n",
    "        * [5.1.2 Calculate and Plot cumulative returns](#5_1_2)\n",
    "    * [5.2 Risk Analysis](#5_2)    \n",
    "        * [5.2.1 Create a box plot for each portfolio](#5_2_1)\n",
    "        * [5.2.2 Calculate Standard Deviation](#5_2_2)\n",
    "        * [5.2.3 Determine which portfolios are riskier than the S&P TSX 60](#5_2_3)\n",
    "        * [5.2.4 Calculate the Annualized Standard Deviations](#5_2_4)\n",
    "    * [5.3 Rolling Statistics](#5_3) \n",
    "        * [5.3.1 Calculate and plot rolling `std` for all portfolios with 21-day window](#5_3_1)\n",
    "        * [5.3.2 Calculate and plot the correlation](#5_3_2)\n",
    "        * [5.3.3 Calculate and Plot Beta for a chosen portfolio and the S&P 60 TSX](#5_3_3)\n",
    "     * [5.4 Rolling Statistics Challenge: Exponentially Weighted Average](#5_4) \n",
    "* [6. Sharpe Ratios](#6)\n",
    "    * [6.1 Using the daily returns, calculate and visualize the Sharpe ratios using a bar plot](#6_1) \n",
    "    * [6.2 Determine whether the algorithmic strategies outperform both the market (S&P TSX 60) and the whales portfolios](#6_2) \n",
    "* [7. Portfolio Creation](#7)\n",
    "    * [7.1 Select 3-5 Stocks](#7_1)\n",
    "    * [7.2 Calculate the weighted returns for the portfolio assuming an equal number of shares for each stock](#7_2)\n",
    "    * [7.3 Join your portfolio returns to the DataFrame that contains all of the portfolio returns](#7_3)   \n",
    "    * [7.4 Re-run the risk analysis with your portfolio to see how it compares to the others](#7_4)       \n",
    "        * [7.4.1 Calculate the Annualized Standard Deviation](#7_4_1) \n",
    "        * [7.4.2 Calculate and plot rolling `std` with a 21-day window](#7_4_2) \n",
    "        * [7.4.3 Calculate and plot the correlation](#7_4_3) \n",
    "        * [7.4.4 Calculate and plot the 60-day rolling beta for your portfolio compared to the S&P 60 TSX](#7_4_4) \n",
    "        * [7.4.5 Calculate the Sharpe ratios and generate a bar plot](#7_4_5)\n",
    "        * [7.4.6 Portfolio Results](#7_4_6)\n",
    "\n",
    "# 1. Objectives <a class=\"anchor\" id=\"1\"></a>\n",
    "This notebook will analyze and visualize the major metrics of the portfolios, and determine which portfolio outperformed the others. Analysis will be conducted pn historical daily returns of several portfolios: some from the firm's algorithmic portfolios, some that represent the portfolios of famous \"whale\" investors like Warren Buffett, and some from the big hedge and mutual funds. The results of the analysis is to create a custom portfolio of stocks and compare its performance to that of the other portfolios, as well as the larger market (S&P TSX 60 Index).\n",
    "\n",
    "# 2. Main Steps <a class=\"anchor\" id=\"2\"></a>\n",
    "The three main steps that will be completed to achieve the above requirements are as follows:\n",
    "\n",
    "* Read and prepare data\n",
    "* Determine the success of each portfolio\n",
    "* Choose and evaulate a custom portfolio\n",
    "\n",
    "\n",
    "# 3. Source Files <a class=\"anchor\" id=\"3\"></a>\n",
    "The source files that will inform our analysis are listed below:\n",
    "\n",
    "* [algo_returns.csv](SourceData/algo_returns.csv)\n",
    "* [otex_historical.csv](SourceData/otex_historical.csv)\n",
    "* [sp_tsx_history.csv](SourceData/sp_tsx_history.csv)\n",
    "* [l_historical.csv](SourceData/l_historical.csv)\n",
    "* [shop_historical.csv](SourceData/shop_historical.csv)\n",
    "* [whale_returns.csv](SourceData/whale_returns.csv)\n"
   ]
  },
  {
   "cell_type": "code",
   "execution_count": 1,
   "metadata": {},
   "outputs": [],
   "source": [
    "# Initial imports\n",
    "import pandas as pd\n",
    "import numpy as np\n",
    "import datetime as dt\n",
    "from pathlib import Path\n",
    "import seaborn as sb\n",
    "\n",
    "%matplotlib inline"
   ]
  },
  {
   "cell_type": "markdown",
   "metadata": {},
   "source": [
    "# 4. Data Cleaning <a class=\"anchor\" id=\"4\"></a>\n",
    "\n",
    "In this section, you will need to read the CSV files into DataFrames and perform any necessary data cleaning steps. After cleaning, combine all DataFrames into a single DataFrame.\n",
    "\n",
    "Files:\n",
    "\n",
    "* `whale_returns.csv`: Contains returns of some famous \"whale\" investors' portfolios.\n",
    "\n",
    "* `algo_returns.csv`: Contains returns from the in-house trading algorithms from Harold's company.\n",
    "\n",
    "* `sp_tsx_history.csv`: Contains historical closing prices of the S&P TSX 60 Index."
   ]
  },
  {
   "cell_type": "markdown",
   "metadata": {},
   "source": [
    "## 4.1 Whale Returns <a class=\"anchor\" id=\"4_1\"></a>\n",
    "\n",
    "Read the Whale Portfolio daily returns and clean the data.\n",
    "\n",
    "#### 4.1.1 Read Whale Returns Source Data <a class=\"anchor\" id=\"4_1_1\"></a>"
   ]
  },
  {
   "cell_type": "code",
   "execution_count": 2,
   "metadata": {},
   "outputs": [
    {
     "data": {
      "text/html": [
       "<div>\n",
       "<style scoped>\n",
       "    .dataframe tbody tr th:only-of-type {\n",
       "        vertical-align: middle;\n",
       "    }\n",
       "\n",
       "    .dataframe tbody tr th {\n",
       "        vertical-align: top;\n",
       "    }\n",
       "\n",
       "    .dataframe thead th {\n",
       "        text-align: right;\n",
       "    }\n",
       "</style>\n",
       "<table border=\"1\" class=\"dataframe\">\n",
       "  <thead>\n",
       "    <tr style=\"text-align: right;\">\n",
       "      <th></th>\n",
       "      <th>SOROS FUND MANAGEMENT LLC</th>\n",
       "      <th>PAULSON &amp; CO.INC.</th>\n",
       "      <th>TIGER GLOBAL MANAGEMENT LLC</th>\n",
       "      <th>BERKSHIRE HATHAWAY INC</th>\n",
       "    </tr>\n",
       "    <tr>\n",
       "      <th>Date</th>\n",
       "      <th></th>\n",
       "      <th></th>\n",
       "      <th></th>\n",
       "      <th></th>\n",
       "    </tr>\n",
       "  </thead>\n",
       "  <tbody>\n",
       "    <tr>\n",
       "      <th>2015-03-02</th>\n",
       "      <td>NaN</td>\n",
       "      <td>NaN</td>\n",
       "      <td>NaN</td>\n",
       "      <td>NaN</td>\n",
       "    </tr>\n",
       "    <tr>\n",
       "      <th>2015-03-03</th>\n",
       "      <td>-0.001266</td>\n",
       "      <td>-0.004981</td>\n",
       "      <td>-0.000496</td>\n",
       "      <td>-0.006569</td>\n",
       "    </tr>\n",
       "    <tr>\n",
       "      <th>2015-03-04</th>\n",
       "      <td>0.002230</td>\n",
       "      <td>0.003241</td>\n",
       "      <td>-0.002534</td>\n",
       "      <td>0.004213</td>\n",
       "    </tr>\n",
       "    <tr>\n",
       "      <th>2015-03-05</th>\n",
       "      <td>0.004016</td>\n",
       "      <td>0.004076</td>\n",
       "      <td>0.002355</td>\n",
       "      <td>0.006726</td>\n",
       "    </tr>\n",
       "    <tr>\n",
       "      <th>2015-03-06</th>\n",
       "      <td>-0.007905</td>\n",
       "      <td>-0.003574</td>\n",
       "      <td>-0.008481</td>\n",
       "      <td>-0.013098</td>\n",
       "    </tr>\n",
       "  </tbody>\n",
       "</table>\n",
       "</div>"
      ],
      "text/plain": [
       "            SOROS FUND MANAGEMENT LLC  PAULSON & CO.INC.   \\\n",
       "Date                                                        \n",
       "2015-03-02                        NaN                 NaN   \n",
       "2015-03-03                  -0.001266           -0.004981   \n",
       "2015-03-04                   0.002230            0.003241   \n",
       "2015-03-05                   0.004016            0.004076   \n",
       "2015-03-06                  -0.007905           -0.003574   \n",
       "\n",
       "            TIGER GLOBAL MANAGEMENT LLC  BERKSHIRE HATHAWAY INC  \n",
       "Date                                                             \n",
       "2015-03-02                          NaN                     NaN  \n",
       "2015-03-03                    -0.000496               -0.006569  \n",
       "2015-03-04                    -0.002534                0.004213  \n",
       "2015-03-05                     0.002355                0.006726  \n",
       "2015-03-06                    -0.008481               -0.013098  "
      ]
     },
     "execution_count": 2,
     "metadata": {},
     "output_type": "execute_result"
    }
   ],
   "source": [
    "# Reading whale returns\n",
    "csvpath = Path(\"SourceData\\whale_returns.csv\")\n",
    "whale_returns_df = pd.read_csv(csvpath, index_col=\"Date\",parse_dates=True,infer_datetime_format=True)\n",
    "\n",
    "#Sort by Date\n",
    "whale_returns_df = whale_returns_df.sort_index()\n",
    "\n",
    "#Display Top 5 records\n",
    "whale_returns_df.head(5)\n"
   ]
  },
  {
   "cell_type": "markdown",
   "metadata": {},
   "source": [
    "#### 4.1.2 Profile Whale Returns Source Data <a class=\"anchor\" id=\"4_1_2\"></a>"
   ]
  },
  {
   "cell_type": "code",
   "execution_count": 3,
   "metadata": {},
   "outputs": [
    {
     "data": {
      "text/plain": [
       "SOROS FUND MANAGEMENT LLC      1\n",
       "PAULSON & CO.INC.              1\n",
       "TIGER GLOBAL MANAGEMENT LLC    1\n",
       "BERKSHIRE HATHAWAY INC         1\n",
       "dtype: int64"
      ]
     },
     "execution_count": 3,
     "metadata": {},
     "output_type": "execute_result"
    }
   ],
   "source": [
    "# Count nulls\n",
    "whale_returns_df.isnull().sum()"
   ]
  },
  {
   "cell_type": "code",
   "execution_count": 4,
   "metadata": {},
   "outputs": [
    {
     "data": {
      "text/plain": [
       "Date\n",
       "2015-03-02    False\n",
       "2015-03-03    False\n",
       "2015-03-04    False\n",
       "2015-03-05    False\n",
       "2015-03-06    False\n",
       "              ...  \n",
       "2019-04-25    False\n",
       "2019-04-26    False\n",
       "2019-04-29    False\n",
       "2019-04-30    False\n",
       "2019-05-01    False\n",
       "Length: 1060, dtype: bool"
      ]
     },
     "execution_count": 4,
     "metadata": {},
     "output_type": "execute_result"
    }
   ],
   "source": [
    "# Duplicate check\n",
    "whale_returns_df.duplicated()"
   ]
  },
  {
   "cell_type": "markdown",
   "metadata": {},
   "source": [
    "#### 4.1.2 Cleanse Whale Returns Source Data <a class=\"anchor\" id=\"4_1_3\"></a>"
   ]
  },
  {
   "cell_type": "code",
   "execution_count": 5,
   "metadata": {},
   "outputs": [
    {
     "data": {
      "text/plain": [
       "SOROS FUND MANAGEMENT LLC      0\n",
       "PAULSON & CO.INC.              0\n",
       "TIGER GLOBAL MANAGEMENT LLC    0\n",
       "BERKSHIRE HATHAWAY INC         0\n",
       "dtype: int64"
      ]
     },
     "execution_count": 5,
     "metadata": {},
     "output_type": "execute_result"
    }
   ],
   "source": [
    "# Drop nulls\n",
    "whale_returns_df = whale_returns_df.dropna().copy()\n",
    "\n",
    "# Verify nulls dropped\n",
    "whale_returns_df.isnull().sum()"
   ]
  },
  {
   "cell_type": "code",
   "execution_count": 6,
   "metadata": {},
   "outputs": [
    {
     "data": {
      "text/html": [
       "<div>\n",
       "<style scoped>\n",
       "    .dataframe tbody tr th:only-of-type {\n",
       "        vertical-align: middle;\n",
       "    }\n",
       "\n",
       "    .dataframe tbody tr th {\n",
       "        vertical-align: top;\n",
       "    }\n",
       "\n",
       "    .dataframe thead th {\n",
       "        text-align: right;\n",
       "    }\n",
       "</style>\n",
       "<table border=\"1\" class=\"dataframe\">\n",
       "  <thead>\n",
       "    <tr style=\"text-align: right;\">\n",
       "      <th></th>\n",
       "      <th>Soros_Daily_Returns</th>\n",
       "      <th>Paulson_Daily_Returns</th>\n",
       "      <th>Tiger_Daily_Returns</th>\n",
       "      <th>BerkshireHathaway_Daily_Returns</th>\n",
       "    </tr>\n",
       "    <tr>\n",
       "      <th>Date</th>\n",
       "      <th></th>\n",
       "      <th></th>\n",
       "      <th></th>\n",
       "      <th></th>\n",
       "    </tr>\n",
       "  </thead>\n",
       "  <tbody>\n",
       "    <tr>\n",
       "      <th>2015-03-03</th>\n",
       "      <td>-0.001266</td>\n",
       "      <td>-0.004981</td>\n",
       "      <td>-0.000496</td>\n",
       "      <td>-0.006569</td>\n",
       "    </tr>\n",
       "    <tr>\n",
       "      <th>2015-03-04</th>\n",
       "      <td>0.002230</td>\n",
       "      <td>0.003241</td>\n",
       "      <td>-0.002534</td>\n",
       "      <td>0.004213</td>\n",
       "    </tr>\n",
       "    <tr>\n",
       "      <th>2015-03-05</th>\n",
       "      <td>0.004016</td>\n",
       "      <td>0.004076</td>\n",
       "      <td>0.002355</td>\n",
       "      <td>0.006726</td>\n",
       "    </tr>\n",
       "    <tr>\n",
       "      <th>2015-03-06</th>\n",
       "      <td>-0.007905</td>\n",
       "      <td>-0.003574</td>\n",
       "      <td>-0.008481</td>\n",
       "      <td>-0.013098</td>\n",
       "    </tr>\n",
       "    <tr>\n",
       "      <th>2015-03-09</th>\n",
       "      <td>0.000582</td>\n",
       "      <td>0.004225</td>\n",
       "      <td>0.005843</td>\n",
       "      <td>-0.001652</td>\n",
       "    </tr>\n",
       "  </tbody>\n",
       "</table>\n",
       "</div>"
      ],
      "text/plain": [
       "            Soros_Daily_Returns  Paulson_Daily_Returns  Tiger_Daily_Returns  \\\n",
       "Date                                                                          \n",
       "2015-03-03            -0.001266              -0.004981            -0.000496   \n",
       "2015-03-04             0.002230               0.003241            -0.002534   \n",
       "2015-03-05             0.004016               0.004076             0.002355   \n",
       "2015-03-06            -0.007905              -0.003574            -0.008481   \n",
       "2015-03-09             0.000582               0.004225             0.005843   \n",
       "\n",
       "            BerkshireHathaway_Daily_Returns  \n",
       "Date                                         \n",
       "2015-03-03                        -0.006569  \n",
       "2015-03-04                         0.004213  \n",
       "2015-03-05                         0.006726  \n",
       "2015-03-06                        -0.013098  \n",
       "2015-03-09                        -0.001652  "
      ]
     },
     "execution_count": 6,
     "metadata": {},
     "output_type": "execute_result"
    }
   ],
   "source": [
    "# Rename columns\n",
    "whale_returns_df = whale_returns_df.rename(columns={\n",
    "    \"SOROS FUND MANAGEMENT LLC\": \"Soros_Daily_Returns\",\n",
    "    \"PAULSON & CO.INC. \": \"Paulson_Daily_Returns\",\n",
    "    \"TIGER GLOBAL MANAGEMENT LLC\": \"Tiger_Daily_Returns\",\n",
    "    \"BERKSHIRE HATHAWAY INC\": \"BerkshireHathaway_Daily_Returns\",\n",
    "})\n",
    "whale_returns_df.head(5)"
   ]
  },
  {
   "cell_type": "markdown",
   "metadata": {},
   "source": [
    "## 4.2 Algorithmic Daily Returns <a class=\"anchor\" id=\"4_2\"></a>\n",
    "\n",
    "Read the algorithmic daily returns and clean the data."
   ]
  },
  {
   "cell_type": "markdown",
   "metadata": {},
   "source": [
    "#### 4.2.1 Read Algorithmic Daily Returns Source Data <a class=\"anchor\" id=\"4_2_1\"></a>"
   ]
  },
  {
   "cell_type": "code",
   "execution_count": 7,
   "metadata": {},
   "outputs": [
    {
     "data": {
      "text/html": [
       "<div>\n",
       "<style scoped>\n",
       "    .dataframe tbody tr th:only-of-type {\n",
       "        vertical-align: middle;\n",
       "    }\n",
       "\n",
       "    .dataframe tbody tr th {\n",
       "        vertical-align: top;\n",
       "    }\n",
       "\n",
       "    .dataframe thead th {\n",
       "        text-align: right;\n",
       "    }\n",
       "</style>\n",
       "<table border=\"1\" class=\"dataframe\">\n",
       "  <thead>\n",
       "    <tr style=\"text-align: right;\">\n",
       "      <th></th>\n",
       "      <th>Algo 1</th>\n",
       "      <th>Algo 2</th>\n",
       "    </tr>\n",
       "    <tr>\n",
       "      <th>Date</th>\n",
       "      <th></th>\n",
       "      <th></th>\n",
       "    </tr>\n",
       "  </thead>\n",
       "  <tbody>\n",
       "    <tr>\n",
       "      <th>2014-05-28</th>\n",
       "      <td>0.001745</td>\n",
       "      <td>NaN</td>\n",
       "    </tr>\n",
       "    <tr>\n",
       "      <th>2014-05-29</th>\n",
       "      <td>0.003978</td>\n",
       "      <td>NaN</td>\n",
       "    </tr>\n",
       "    <tr>\n",
       "      <th>2014-05-30</th>\n",
       "      <td>0.004464</td>\n",
       "      <td>NaN</td>\n",
       "    </tr>\n",
       "    <tr>\n",
       "      <th>2014-06-02</th>\n",
       "      <td>0.005692</td>\n",
       "      <td>NaN</td>\n",
       "    </tr>\n",
       "    <tr>\n",
       "      <th>2014-06-03</th>\n",
       "      <td>0.005292</td>\n",
       "      <td>NaN</td>\n",
       "    </tr>\n",
       "  </tbody>\n",
       "</table>\n",
       "</div>"
      ],
      "text/plain": [
       "              Algo 1  Algo 2\n",
       "Date                        \n",
       "2014-05-28  0.001745     NaN\n",
       "2014-05-29  0.003978     NaN\n",
       "2014-05-30  0.004464     NaN\n",
       "2014-06-02  0.005692     NaN\n",
       "2014-06-03  0.005292     NaN"
      ]
     },
     "execution_count": 7,
     "metadata": {},
     "output_type": "execute_result"
    }
   ],
   "source": [
    "# Reading algorithmic returns\n",
    "csvpath = Path(\"SourceData/algo_returns.csv\")\n",
    "algo_returns_df = pd.read_csv(csvpath, index_col=\"Date\",parse_dates=True,infer_datetime_format=True)\n",
    "\n",
    "#Sort by Date\n",
    "algo_returns_df = algo_returns_df.sort_index()\n",
    "\n",
    "#Display Top 5 records\n",
    "algo_returns_df.head(5)\n"
   ]
  },
  {
   "cell_type": "markdown",
   "metadata": {},
   "source": [
    "#### 4.2.2 Profile Algorithmic Daily Returns Source Data <a class=\"anchor\" id=\"4_2_2\"></a>"
   ]
  },
  {
   "cell_type": "code",
   "execution_count": 8,
   "metadata": {},
   "outputs": [
    {
     "data": {
      "text/plain": [
       "Algo 1    0\n",
       "Algo 2    6\n",
       "dtype: int64"
      ]
     },
     "execution_count": 8,
     "metadata": {},
     "output_type": "execute_result"
    }
   ],
   "source": [
    "# Count nulls\n",
    "algo_returns_df.isnull().sum()"
   ]
  },
  {
   "cell_type": "code",
   "execution_count": 9,
   "metadata": {},
   "outputs": [
    {
     "data": {
      "text/plain": [
       "Date\n",
       "2014-05-28    False\n",
       "2014-05-29    False\n",
       "2014-05-30    False\n",
       "2014-06-02    False\n",
       "2014-06-03    False\n",
       "              ...  \n",
       "2019-04-25    False\n",
       "2019-04-26    False\n",
       "2019-04-29    False\n",
       "2019-04-30    False\n",
       "2019-05-01    False\n",
       "Length: 1241, dtype: bool"
      ]
     },
     "execution_count": 9,
     "metadata": {},
     "output_type": "execute_result"
    }
   ],
   "source": [
    "# Duplicate check\n",
    "algo_returns_df.duplicated()"
   ]
  },
  {
   "cell_type": "markdown",
   "metadata": {},
   "source": [
    "#### 4.2.3 Cleanse Algorithmic Daily Returns Source Data <a class=\"anchor\" id=\"4_2_3\"></a>"
   ]
  },
  {
   "cell_type": "code",
   "execution_count": 10,
   "metadata": {},
   "outputs": [
    {
     "data": {
      "text/plain": [
       "Algo 1    0\n",
       "Algo 2    0\n",
       "dtype: int64"
      ]
     },
     "execution_count": 10,
     "metadata": {},
     "output_type": "execute_result"
    }
   ],
   "source": [
    "# Drop nulls\n",
    "algo_returns_df = algo_returns_df.dropna().copy()\n",
    "\n",
    "# Verify nulls dropped\n",
    "algo_returns_df.isnull().sum()"
   ]
  },
  {
   "cell_type": "code",
   "execution_count": 11,
   "metadata": {},
   "outputs": [
    {
     "data": {
      "text/html": [
       "<div>\n",
       "<style scoped>\n",
       "    .dataframe tbody tr th:only-of-type {\n",
       "        vertical-align: middle;\n",
       "    }\n",
       "\n",
       "    .dataframe tbody tr th {\n",
       "        vertical-align: top;\n",
       "    }\n",
       "\n",
       "    .dataframe thead th {\n",
       "        text-align: right;\n",
       "    }\n",
       "</style>\n",
       "<table border=\"1\" class=\"dataframe\">\n",
       "  <thead>\n",
       "    <tr style=\"text-align: right;\">\n",
       "      <th></th>\n",
       "      <th>Algo1_Daily_Returns</th>\n",
       "      <th>Algo2_Daily_Returns</th>\n",
       "    </tr>\n",
       "    <tr>\n",
       "      <th>Date</th>\n",
       "      <th></th>\n",
       "      <th></th>\n",
       "    </tr>\n",
       "  </thead>\n",
       "  <tbody>\n",
       "    <tr>\n",
       "      <th>2014-06-05</th>\n",
       "      <td>0.004062</td>\n",
       "      <td>0.013285</td>\n",
       "    </tr>\n",
       "    <tr>\n",
       "      <th>2014-06-06</th>\n",
       "      <td>0.001857</td>\n",
       "      <td>0.008284</td>\n",
       "    </tr>\n",
       "    <tr>\n",
       "      <th>2014-06-09</th>\n",
       "      <td>-0.005012</td>\n",
       "      <td>0.005668</td>\n",
       "    </tr>\n",
       "    <tr>\n",
       "      <th>2014-06-10</th>\n",
       "      <td>0.004406</td>\n",
       "      <td>-0.000735</td>\n",
       "    </tr>\n",
       "    <tr>\n",
       "      <th>2014-06-11</th>\n",
       "      <td>0.004760</td>\n",
       "      <td>-0.003761</td>\n",
       "    </tr>\n",
       "  </tbody>\n",
       "</table>\n",
       "</div>"
      ],
      "text/plain": [
       "            Algo1_Daily_Returns  Algo2_Daily_Returns\n",
       "Date                                                \n",
       "2014-06-05             0.004062             0.013285\n",
       "2014-06-06             0.001857             0.008284\n",
       "2014-06-09            -0.005012             0.005668\n",
       "2014-06-10             0.004406            -0.000735\n",
       "2014-06-11             0.004760            -0.003761"
      ]
     },
     "execution_count": 11,
     "metadata": {},
     "output_type": "execute_result"
    }
   ],
   "source": [
    "# Rename columns\n",
    "algo_returns_df = algo_returns_df.rename(columns={\n",
    "    \"Algo 1\": \"Algo1_Daily_Returns\",\n",
    "    \"Algo 2\": \"Algo2_Daily_Returns\"\n",
    "})\n",
    "algo_returns_df.head(5)"
   ]
  },
  {
   "cell_type": "markdown",
   "metadata": {},
   "source": [
    "## 4.3 S&P TSX 60 Returns <a class=\"anchor\" id=\"4_3\"></a>\n",
    "\n",
    "Read the S&P TSX 60 historic closing prices and create a new daily returns DataFrame from the data. "
   ]
  },
  {
   "cell_type": "markdown",
   "metadata": {},
   "source": [
    "#### 4.3.1 Read S&P TSX 60 Returns Source Data <a class=\"anchor\" id=\"4_3_1\"></a>"
   ]
  },
  {
   "cell_type": "code",
   "execution_count": 12,
   "metadata": {},
   "outputs": [
    {
     "data": {
      "text/html": [
       "<div>\n",
       "<style scoped>\n",
       "    .dataframe tbody tr th:only-of-type {\n",
       "        vertical-align: middle;\n",
       "    }\n",
       "\n",
       "    .dataframe tbody tr th {\n",
       "        vertical-align: top;\n",
       "    }\n",
       "\n",
       "    .dataframe thead th {\n",
       "        text-align: right;\n",
       "    }\n",
       "</style>\n",
       "<table border=\"1\" class=\"dataframe\">\n",
       "  <thead>\n",
       "    <tr style=\"text-align: right;\">\n",
       "      <th></th>\n",
       "      <th>Close</th>\n",
       "    </tr>\n",
       "    <tr>\n",
       "      <th>Date</th>\n",
       "      <th></th>\n",
       "    </tr>\n",
       "  </thead>\n",
       "  <tbody>\n",
       "    <tr>\n",
       "      <th>2012-10-01</th>\n",
       "      <td>$12,370.19</td>\n",
       "    </tr>\n",
       "    <tr>\n",
       "      <th>2012-10-02</th>\n",
       "      <td>$12,391.23</td>\n",
       "    </tr>\n",
       "    <tr>\n",
       "      <th>2012-10-03</th>\n",
       "      <td>$12,359.47</td>\n",
       "    </tr>\n",
       "    <tr>\n",
       "      <th>2012-10-04</th>\n",
       "      <td>$12,447.68</td>\n",
       "    </tr>\n",
       "    <tr>\n",
       "      <th>2012-10-05</th>\n",
       "      <td>$12,418.99</td>\n",
       "    </tr>\n",
       "  </tbody>\n",
       "</table>\n",
       "</div>"
      ],
      "text/plain": [
       "                 Close\n",
       "Date                  \n",
       "2012-10-01  $12,370.19\n",
       "2012-10-02  $12,391.23\n",
       "2012-10-03  $12,359.47\n",
       "2012-10-04  $12,447.68\n",
       "2012-10-05  $12,418.99"
      ]
     },
     "execution_count": 12,
     "metadata": {},
     "output_type": "execute_result"
    }
   ],
   "source": [
    "# Reading S&P TSX 60 Closing Prices\n",
    "csvpath = Path(\"SourceData/sp_tsx_history.csv\")\n",
    "\n",
    "sp_tsx_history_df = pd.read_csv(csvpath, index_col=\"Date\",parse_dates=True,infer_datetime_format=True)\n",
    "\n",
    "#Sort by Date\n",
    "sp_tsx_history_df = sp_tsx_history_df.sort_index()\n",
    "\n",
    "#Display Top 5 records\n",
    "sp_tsx_history_df.head(5)\n"
   ]
  },
  {
   "cell_type": "markdown",
   "metadata": {},
   "source": [
    "#### 4.3.2 Profile S&P TSX 60 Returns Source Data <a class=\"anchor\" id=\"4_3_2\"></a>"
   ]
  },
  {
   "cell_type": "code",
   "execution_count": 13,
   "metadata": {},
   "outputs": [
    {
     "data": {
      "text/plain": [
       "Close    object\n",
       "dtype: object"
      ]
     },
     "execution_count": 13,
     "metadata": {},
     "output_type": "execute_result"
    }
   ],
   "source": [
    "# Check Data Types\n",
    "sp_tsx_history_df.dtypes"
   ]
  },
  {
   "cell_type": "markdown",
   "metadata": {},
   "source": [
    "#### 4.3.3 Cleanse S&P TSX 60 Returns Source Data <a class=\"anchor\" id=\"4_3_3\"></a>"
   ]
  },
  {
   "cell_type": "code",
   "execution_count": 14,
   "metadata": {},
   "outputs": [
    {
     "data": {
      "text/plain": [
       "Date\n",
       "2012-10-01    1237019\n",
       "2012-10-02    1239123\n",
       "2012-10-03    1235947\n",
       "2012-10-04    1244768\n",
       "2012-10-05    1241899\n",
       "               ...   \n",
       "2019-12-20    1711844\n",
       "2019-12-23    1712871\n",
       "2019-12-24    1718015\n",
       "2019-12-27    1716821\n",
       "2019-12-30    1709856\n",
       "Name: Close, Length: 1818, dtype: object"
      ]
     },
     "execution_count": 14,
     "metadata": {},
     "output_type": "execute_result"
    }
   ],
   "source": [
    "# Fix Data Types\n",
    "#Replace currency symbol with blank\n",
    "sp_tsx_history_df[\"Close\"] = sp_tsx_history_df[\"Close\"].str.replace(\"[^0-9]\",\"\",regex=True)\n",
    "sp_tsx_history_df[\"Close\"]"
   ]
  },
  {
   "cell_type": "code",
   "execution_count": 15,
   "metadata": {},
   "outputs": [],
   "source": [
    "# Fix Data Types\n",
    "# Change data type for column Close to that of float\n",
    "sp_tsx_history_df[\"Close\"] = sp_tsx_history_df[\"Close\"].astype(\"float\")"
   ]
  },
  {
   "cell_type": "code",
   "execution_count": 16,
   "metadata": {},
   "outputs": [
    {
     "data": {
      "text/plain": [
       "dtype('float64')"
      ]
     },
     "execution_count": 16,
     "metadata": {},
     "output_type": "execute_result"
    }
   ],
   "source": [
    "#Confirm Data Types\n",
    "sp_tsx_history_df[\"Close\"].dtypes"
   ]
  },
  {
   "cell_type": "code",
   "execution_count": 17,
   "metadata": {},
   "outputs": [
    {
     "data": {
      "text/plain": [
       "Close    0\n",
       "dtype: int64"
      ]
     },
     "execution_count": 17,
     "metadata": {},
     "output_type": "execute_result"
    }
   ],
   "source": [
    "# Drop nulls\n",
    "sp_tsx_history_df = sp_tsx_history_df.dropna().copy()\n",
    "# Verify nulls dropped\n",
    "sp_tsx_history_df.isnull().sum()"
   ]
  },
  {
   "cell_type": "code",
   "execution_count": 18,
   "metadata": {},
   "outputs": [
    {
     "data": {
      "text/html": [
       "<div>\n",
       "<style scoped>\n",
       "    .dataframe tbody tr th:only-of-type {\n",
       "        vertical-align: middle;\n",
       "    }\n",
       "\n",
       "    .dataframe tbody tr th {\n",
       "        vertical-align: top;\n",
       "    }\n",
       "\n",
       "    .dataframe thead th {\n",
       "        text-align: right;\n",
       "    }\n",
       "</style>\n",
       "<table border=\"1\" class=\"dataframe\">\n",
       "  <thead>\n",
       "    <tr style=\"text-align: right;\">\n",
       "      <th></th>\n",
       "      <th>Close</th>\n",
       "    </tr>\n",
       "    <tr>\n",
       "      <th>Date</th>\n",
       "      <th></th>\n",
       "    </tr>\n",
       "  </thead>\n",
       "  <tbody>\n",
       "    <tr>\n",
       "      <th>2012-10-01</th>\n",
       "      <td>0.000000</td>\n",
       "    </tr>\n",
       "    <tr>\n",
       "      <th>2012-10-02</th>\n",
       "      <td>0.001701</td>\n",
       "    </tr>\n",
       "    <tr>\n",
       "      <th>2012-10-03</th>\n",
       "      <td>-0.002563</td>\n",
       "    </tr>\n",
       "    <tr>\n",
       "      <th>2012-10-04</th>\n",
       "      <td>0.007137</td>\n",
       "    </tr>\n",
       "    <tr>\n",
       "      <th>2012-10-05</th>\n",
       "      <td>-0.002305</td>\n",
       "    </tr>\n",
       "  </tbody>\n",
       "</table>\n",
       "</div>"
      ],
      "text/plain": [
       "               Close\n",
       "Date                \n",
       "2012-10-01  0.000000\n",
       "2012-10-02  0.001701\n",
       "2012-10-03 -0.002563\n",
       "2012-10-04  0.007137\n",
       "2012-10-05 -0.002305"
      ]
     },
     "execution_count": 18,
     "metadata": {},
     "output_type": "execute_result"
    }
   ],
   "source": [
    "# Calculate Daily Returns\n",
    "sp_tsx_history_daily_return_df=sp_tsx_history_df.pct_change()\n",
    "sp_tsx_history_daily_return_df=sp_tsx_history_daily_return_df.fillna(0)\n",
    "sp_tsx_history_daily_return_df.head(5)\n"
   ]
  },
  {
   "cell_type": "code",
   "execution_count": 19,
   "metadata": {},
   "outputs": [
    {
     "data": {
      "text/html": [
       "<div>\n",
       "<style scoped>\n",
       "    .dataframe tbody tr th:only-of-type {\n",
       "        vertical-align: middle;\n",
       "    }\n",
       "\n",
       "    .dataframe tbody tr th {\n",
       "        vertical-align: top;\n",
       "    }\n",
       "\n",
       "    .dataframe thead th {\n",
       "        text-align: right;\n",
       "    }\n",
       "</style>\n",
       "<table border=\"1\" class=\"dataframe\">\n",
       "  <thead>\n",
       "    <tr style=\"text-align: right;\">\n",
       "      <th></th>\n",
       "      <th>SP_TSX_Daily_Returns</th>\n",
       "    </tr>\n",
       "    <tr>\n",
       "      <th>Date</th>\n",
       "      <th></th>\n",
       "    </tr>\n",
       "  </thead>\n",
       "  <tbody>\n",
       "    <tr>\n",
       "      <th>2012-10-01</th>\n",
       "      <td>0.000000</td>\n",
       "    </tr>\n",
       "    <tr>\n",
       "      <th>2012-10-02</th>\n",
       "      <td>0.001701</td>\n",
       "    </tr>\n",
       "    <tr>\n",
       "      <th>2012-10-03</th>\n",
       "      <td>-0.002563</td>\n",
       "    </tr>\n",
       "    <tr>\n",
       "      <th>2012-10-04</th>\n",
       "      <td>0.007137</td>\n",
       "    </tr>\n",
       "    <tr>\n",
       "      <th>2012-10-05</th>\n",
       "      <td>-0.002305</td>\n",
       "    </tr>\n",
       "  </tbody>\n",
       "</table>\n",
       "</div>"
      ],
      "text/plain": [
       "            SP_TSX_Daily_Returns\n",
       "Date                            \n",
       "2012-10-01              0.000000\n",
       "2012-10-02              0.001701\n",
       "2012-10-03             -0.002563\n",
       "2012-10-04              0.007137\n",
       "2012-10-05             -0.002305"
      ]
     },
     "execution_count": 19,
     "metadata": {},
     "output_type": "execute_result"
    }
   ],
   "source": [
    "# Rename `Close` Column to be specific to this portfolio.\n",
    "sp_tsx_history_daily_return_df = sp_tsx_history_daily_return_df.rename(columns={\n",
    "    \"Close\": \"SP_TSX_Daily_Returns\"\n",
    "})\n",
    "sp_tsx_history_daily_return_df.head(5)"
   ]
  },
  {
   "cell_type": "markdown",
   "metadata": {},
   "source": [
    "## 4.4 Combine Whale, Algorithmic, and S&P TSX 60 Returns  <a class=\"anchor\" id=\"4_4\"></a>"
   ]
  },
  {
   "cell_type": "code",
   "execution_count": 20,
   "metadata": {},
   "outputs": [
    {
     "data": {
      "text/html": [
       "<div>\n",
       "<style scoped>\n",
       "    .dataframe tbody tr th:only-of-type {\n",
       "        vertical-align: middle;\n",
       "    }\n",
       "\n",
       "    .dataframe tbody tr th {\n",
       "        vertical-align: top;\n",
       "    }\n",
       "\n",
       "    .dataframe thead th {\n",
       "        text-align: right;\n",
       "    }\n",
       "</style>\n",
       "<table border=\"1\" class=\"dataframe\">\n",
       "  <thead>\n",
       "    <tr style=\"text-align: right;\">\n",
       "      <th></th>\n",
       "      <th>Soros_Daily_Returns</th>\n",
       "      <th>Paulson_Daily_Returns</th>\n",
       "      <th>Tiger_Daily_Returns</th>\n",
       "      <th>BerkshireHathaway_Daily_Returns</th>\n",
       "      <th>Algo1_Daily_Returns</th>\n",
       "      <th>Algo2_Daily_Returns</th>\n",
       "      <th>SP_TSX_Daily_Returns</th>\n",
       "    </tr>\n",
       "    <tr>\n",
       "      <th>Date</th>\n",
       "      <th></th>\n",
       "      <th></th>\n",
       "      <th></th>\n",
       "      <th></th>\n",
       "      <th></th>\n",
       "      <th></th>\n",
       "      <th></th>\n",
       "    </tr>\n",
       "  </thead>\n",
       "  <tbody>\n",
       "    <tr>\n",
       "      <th>2015-03-03</th>\n",
       "      <td>-0.001266</td>\n",
       "      <td>-0.004981</td>\n",
       "      <td>-0.000496</td>\n",
       "      <td>-0.006569</td>\n",
       "      <td>-0.001942</td>\n",
       "      <td>-0.000949</td>\n",
       "      <td>-0.008530</td>\n",
       "    </tr>\n",
       "    <tr>\n",
       "      <th>2015-03-04</th>\n",
       "      <td>0.002230</td>\n",
       "      <td>0.003241</td>\n",
       "      <td>-0.002534</td>\n",
       "      <td>0.004213</td>\n",
       "      <td>-0.008589</td>\n",
       "      <td>0.002416</td>\n",
       "      <td>-0.003371</td>\n",
       "    </tr>\n",
       "    <tr>\n",
       "      <th>2015-03-05</th>\n",
       "      <td>0.004016</td>\n",
       "      <td>0.004076</td>\n",
       "      <td>0.002355</td>\n",
       "      <td>0.006726</td>\n",
       "      <td>-0.000955</td>\n",
       "      <td>0.004323</td>\n",
       "      <td>0.001344</td>\n",
       "    </tr>\n",
       "    <tr>\n",
       "      <th>2015-03-06</th>\n",
       "      <td>-0.007905</td>\n",
       "      <td>-0.003574</td>\n",
       "      <td>-0.008481</td>\n",
       "      <td>-0.013098</td>\n",
       "      <td>-0.004957</td>\n",
       "      <td>-0.011460</td>\n",
       "      <td>-0.009972</td>\n",
       "    </tr>\n",
       "    <tr>\n",
       "      <th>2015-03-09</th>\n",
       "      <td>0.000582</td>\n",
       "      <td>0.004225</td>\n",
       "      <td>0.005843</td>\n",
       "      <td>-0.001652</td>\n",
       "      <td>-0.005447</td>\n",
       "      <td>0.001303</td>\n",
       "      <td>-0.006555</td>\n",
       "    </tr>\n",
       "    <tr>\n",
       "      <th>...</th>\n",
       "      <td>...</td>\n",
       "      <td>...</td>\n",
       "      <td>...</td>\n",
       "      <td>...</td>\n",
       "      <td>...</td>\n",
       "      <td>...</td>\n",
       "      <td>...</td>\n",
       "    </tr>\n",
       "    <tr>\n",
       "      <th>2017-03-03</th>\n",
       "      <td>0.001050</td>\n",
       "      <td>0.000191</td>\n",
       "      <td>0.002118</td>\n",
       "      <td>0.001445</td>\n",
       "      <td>-0.003131</td>\n",
       "      <td>0.000827</td>\n",
       "      <td>0.004625</td>\n",
       "    </tr>\n",
       "    <tr>\n",
       "      <th>2017-03-06</th>\n",
       "      <td>-0.003016</td>\n",
       "      <td>-0.010073</td>\n",
       "      <td>-0.004702</td>\n",
       "      <td>-0.006102</td>\n",
       "      <td>-0.001548</td>\n",
       "      <td>-0.005750</td>\n",
       "      <td>0.001361</td>\n",
       "    </tr>\n",
       "    <tr>\n",
       "      <th>2017-03-07</th>\n",
       "      <td>-0.005288</td>\n",
       "      <td>-0.007044</td>\n",
       "      <td>-0.004209</td>\n",
       "      <td>0.000338</td>\n",
       "      <td>-0.001838</td>\n",
       "      <td>-0.007664</td>\n",
       "      <td>-0.001342</td>\n",
       "    </tr>\n",
       "    <tr>\n",
       "      <th>2017-03-08</th>\n",
       "      <td>-0.004496</td>\n",
       "      <td>-0.001563</td>\n",
       "      <td>0.000866</td>\n",
       "      <td>0.002992</td>\n",
       "      <td>-0.003141</td>\n",
       "      <td>-0.004234</td>\n",
       "      <td>-0.007163</td>\n",
       "    </tr>\n",
       "    <tr>\n",
       "      <th>2017-03-09</th>\n",
       "      <td>0.000069</td>\n",
       "      <td>-0.001656</td>\n",
       "      <td>0.003661</td>\n",
       "      <td>-0.001979</td>\n",
       "      <td>-0.000414</td>\n",
       "      <td>-0.002858</td>\n",
       "      <td>-0.000009</td>\n",
       "    </tr>\n",
       "  </tbody>\n",
       "</table>\n",
       "<p>500 rows × 7 columns</p>\n",
       "</div>"
      ],
      "text/plain": [
       "            Soros_Daily_Returns  Paulson_Daily_Returns  Tiger_Daily_Returns  \\\n",
       "Date                                                                          \n",
       "2015-03-03            -0.001266              -0.004981            -0.000496   \n",
       "2015-03-04             0.002230               0.003241            -0.002534   \n",
       "2015-03-05             0.004016               0.004076             0.002355   \n",
       "2015-03-06            -0.007905              -0.003574            -0.008481   \n",
       "2015-03-09             0.000582               0.004225             0.005843   \n",
       "...                         ...                    ...                  ...   \n",
       "2017-03-03             0.001050               0.000191             0.002118   \n",
       "2017-03-06            -0.003016              -0.010073            -0.004702   \n",
       "2017-03-07            -0.005288              -0.007044            -0.004209   \n",
       "2017-03-08            -0.004496              -0.001563             0.000866   \n",
       "2017-03-09             0.000069              -0.001656             0.003661   \n",
       "\n",
       "            BerkshireHathaway_Daily_Returns  Algo1_Daily_Returns  \\\n",
       "Date                                                               \n",
       "2015-03-03                        -0.006569            -0.001942   \n",
       "2015-03-04                         0.004213            -0.008589   \n",
       "2015-03-05                         0.006726            -0.000955   \n",
       "2015-03-06                        -0.013098            -0.004957   \n",
       "2015-03-09                        -0.001652            -0.005447   \n",
       "...                                     ...                  ...   \n",
       "2017-03-03                         0.001445            -0.003131   \n",
       "2017-03-06                        -0.006102            -0.001548   \n",
       "2017-03-07                         0.000338            -0.001838   \n",
       "2017-03-08                         0.002992            -0.003141   \n",
       "2017-03-09                        -0.001979            -0.000414   \n",
       "\n",
       "            Algo2_Daily_Returns  SP_TSX_Daily_Returns  \n",
       "Date                                                   \n",
       "2015-03-03            -0.000949             -0.008530  \n",
       "2015-03-04             0.002416             -0.003371  \n",
       "2015-03-05             0.004323              0.001344  \n",
       "2015-03-06            -0.011460             -0.009972  \n",
       "2015-03-09             0.001303             -0.006555  \n",
       "...                         ...                   ...  \n",
       "2017-03-03             0.000827              0.004625  \n",
       "2017-03-06            -0.005750              0.001361  \n",
       "2017-03-07            -0.007664             -0.001342  \n",
       "2017-03-08            -0.004234             -0.007163  \n",
       "2017-03-09            -0.002858             -0.000009  \n",
       "\n",
       "[500 rows x 7 columns]"
      ]
     },
     "execution_count": 20,
     "metadata": {},
     "output_type": "execute_result"
    }
   ],
   "source": [
    "# Join Whale Returns, Algorithmic Returns, and the S&P TSX 60 Returns into a single DataFrame with columns for each portfolio's returns.\n",
    "combined_daily_returns_df = pd.concat(\n",
    "[whale_returns_df, algo_returns_df, sp_tsx_history_daily_return_df], axis=\"columns\", join=\"inner\"\n",
    ")\n",
    "combined_daily_returns_df.head(500)"
   ]
  },
  {
   "cell_type": "markdown",
   "metadata": {},
   "source": [
    "---"
   ]
  },
  {
   "cell_type": "markdown",
   "metadata": {},
   "source": [
    "# 5. Conduct Quantitative Analysis <a class=\"anchor\" id=\"5\"></a>\n",
    "\n",
    "In this section, you will calculate and visualize performance and risk metrics for the portfolios."
   ]
  },
  {
   "cell_type": "markdown",
   "metadata": {},
   "source": [
    "## 5.1 Performance Analysis <a class=\"anchor\" id=\"5_1\"></a>\n",
    "\n",
    "#### 5.1.1 Calculate and Plot the daily returns. <a class=\"anchor\" id=\"5_1_1\"></a>"
   ]
  },
  {
   "cell_type": "code",
   "execution_count": 21,
   "metadata": {},
   "outputs": [
    {
     "data": {
      "text/plain": [
       "<AxesSubplot:xlabel='Date'>"
      ]
     },
     "execution_count": 21,
     "metadata": {},
     "output_type": "execute_result"
    },
    {
     "data": {
      "image/png": "[encoded data removed]",
      "text/plain": [
       "<Figure size 720x360 with 1 Axes>"
      ]
     },
     "metadata": {
      "needs_background": "light"
     },
     "output_type": "display_data"
    }
   ],
   "source": [
    "# Plot daily returns of all portfolios\n",
    "combined_daily_returns_df.plot(figsize=(10,5))"
   ]
  },
  {
   "cell_type": "markdown",
   "metadata": {},
   "source": [
    "#### 5.1.2 Calculate and Plot cumulative returns.  <a class=\"anchor\" id=\"5_1_2\"></a>"
   ]
  },
  {
   "cell_type": "code",
   "execution_count": 22,
   "metadata": {},
   "outputs": [
    {
     "data": {
      "text/html": [
       "<div>\n",
       "<style scoped>\n",
       "    .dataframe tbody tr th:only-of-type {\n",
       "        vertical-align: middle;\n",
       "    }\n",
       "\n",
       "    .dataframe tbody tr th {\n",
       "        vertical-align: top;\n",
       "    }\n",
       "\n",
       "    .dataframe thead th {\n",
       "        text-align: right;\n",
       "    }\n",
       "</style>\n",
       "<table border=\"1\" class=\"dataframe\">\n",
       "  <thead>\n",
       "    <tr style=\"text-align: right;\">\n",
       "      <th></th>\n",
       "      <th>Soros_Daily_Returns</th>\n",
       "      <th>Paulson_Daily_Returns</th>\n",
       "      <th>Tiger_Daily_Returns</th>\n",
       "      <th>BerkshireHathaway_Daily_Returns</th>\n",
       "      <th>Algo1_Daily_Returns</th>\n",
       "      <th>Algo2_Daily_Returns</th>\n",
       "      <th>SP_TSX_Daily_Returns</th>\n",
       "    </tr>\n",
       "    <tr>\n",
       "      <th>Date</th>\n",
       "      <th></th>\n",
       "      <th></th>\n",
       "      <th></th>\n",
       "      <th></th>\n",
       "      <th></th>\n",
       "      <th></th>\n",
       "      <th></th>\n",
       "    </tr>\n",
       "  </thead>\n",
       "  <tbody>\n",
       "    <tr>\n",
       "      <th>2015-03-03</th>\n",
       "      <td>-0.001266</td>\n",
       "      <td>-0.004981</td>\n",
       "      <td>-0.000496</td>\n",
       "      <td>-0.006569</td>\n",
       "      <td>-0.001942</td>\n",
       "      <td>-0.000949</td>\n",
       "      <td>-0.008530</td>\n",
       "    </tr>\n",
       "    <tr>\n",
       "      <th>2015-03-04</th>\n",
       "      <td>0.000962</td>\n",
       "      <td>-0.001755</td>\n",
       "      <td>-0.003028</td>\n",
       "      <td>-0.002383</td>\n",
       "      <td>-0.010514</td>\n",
       "      <td>0.001464</td>\n",
       "      <td>-0.011872</td>\n",
       "    </tr>\n",
       "    <tr>\n",
       "      <th>2015-03-05</th>\n",
       "      <td>0.004981</td>\n",
       "      <td>0.002314</td>\n",
       "      <td>-0.000681</td>\n",
       "      <td>0.004327</td>\n",
       "      <td>-0.011459</td>\n",
       "      <td>0.005794</td>\n",
       "      <td>-0.010544</td>\n",
       "    </tr>\n",
       "    <tr>\n",
       "      <th>2015-03-06</th>\n",
       "      <td>-0.002963</td>\n",
       "      <td>-0.001269</td>\n",
       "      <td>-0.009156</td>\n",
       "      <td>-0.008828</td>\n",
       "      <td>-0.016359</td>\n",
       "      <td>-0.005733</td>\n",
       "      <td>-0.020411</td>\n",
       "    </tr>\n",
       "    <tr>\n",
       "      <th>2015-03-09</th>\n",
       "      <td>-0.002383</td>\n",
       "      <td>0.002951</td>\n",
       "      <td>-0.003367</td>\n",
       "      <td>-0.010466</td>\n",
       "      <td>-0.021717</td>\n",
       "      <td>-0.004437</td>\n",
       "      <td>-0.026832</td>\n",
       "    </tr>\n",
       "  </tbody>\n",
       "</table>\n",
       "</div>"
      ],
      "text/plain": [
       "            Soros_Daily_Returns  Paulson_Daily_Returns  Tiger_Daily_Returns  \\\n",
       "Date                                                                          \n",
       "2015-03-03            -0.001266              -0.004981            -0.000496   \n",
       "2015-03-04             0.000962              -0.001755            -0.003028   \n",
       "2015-03-05             0.004981               0.002314            -0.000681   \n",
       "2015-03-06            -0.002963              -0.001269            -0.009156   \n",
       "2015-03-09            -0.002383               0.002951            -0.003367   \n",
       "\n",
       "            BerkshireHathaway_Daily_Returns  Algo1_Daily_Returns  \\\n",
       "Date                                                               \n",
       "2015-03-03                        -0.006569            -0.001942   \n",
       "2015-03-04                        -0.002383            -0.010514   \n",
       "2015-03-05                         0.004327            -0.011459   \n",
       "2015-03-06                        -0.008828            -0.016359   \n",
       "2015-03-09                        -0.010466            -0.021717   \n",
       "\n",
       "            Algo2_Daily_Returns  SP_TSX_Daily_Returns  \n",
       "Date                                                   \n",
       "2015-03-03            -0.000949             -0.008530  \n",
       "2015-03-04             0.001464             -0.011872  \n",
       "2015-03-05             0.005794             -0.010544  \n",
       "2015-03-06            -0.005733             -0.020411  \n",
       "2015-03-09            -0.004437             -0.026832  "
      ]
     },
     "execution_count": 22,
     "metadata": {},
     "output_type": "execute_result"
    }
   ],
   "source": [
    "# Calculate cumulative returns of all portfolios\n",
    "combined_cummulative_returns_df = (1 + combined_daily_returns_df).cumprod()-1\n",
    "combined_cummulative_returns_df.head()"
   ]
  },
  {
   "cell_type": "code",
   "execution_count": 23,
   "metadata": {},
   "outputs": [
    {
     "data": {
      "text/plain": [
       "<AxesSubplot:xlabel='Date'>"
      ]
     },
     "execution_count": 23,
     "metadata": {},
     "output_type": "execute_result"
    },
    {
     "data": {
      "image/png": "[encoded data removed]",
      "text/plain": [
       "<Figure size 432x288 with 1 Axes>"
      ]
     },
     "metadata": {
      "needs_background": "light"
     },
     "output_type": "display_data"
    }
   ],
   "source": [
    "# Plot cumulative returns\n",
    "combined_cummulative_returns_df.plot()"
   ]
  },
  {
   "cell_type": "markdown",
   "metadata": {},
   "source": [
    "---"
   ]
  },
  {
   "cell_type": "markdown",
   "metadata": {},
   "source": [
    "## 5.2 Risk Analysis <a class=\"anchor\" id=\"5_2\"></a>\n",
    "\n",
    "Determine the _risk_ of each portfolio:\n",
    "\n",
    "1. Create a box plot for each portfolio. \n",
    "2. Calculate the standard deviation for all portfolios.\n",
    "4. Determine which portfolios are riskier than the S&P TSX 60.\n",
    "5. Calculate the Annualized Standard Deviation."
   ]
  },
  {
   "cell_type": "markdown",
   "metadata": {},
   "source": [
    "### 5.2.1 Create a box plot for each portfolio <a class=\"anchor\" id=\"5_2_1\"></a>\n"
   ]
  },
  {
   "cell_type": "code",
   "execution_count": 24,
   "metadata": {},
   "outputs": [],
   "source": [
    "# Rename columns\n",
    "combined_daily_returns_df = combined_daily_returns_df.rename(columns={\n",
    "    \"Soros_Daily_Returns\":\"Soros\",\n",
    "    \"Paulson_Daily_Returns\":\"Paulson\",\n",
    "    \"Tiger_Daily_Returns\":\"Tiger\",\n",
    "    \"BerkshireHathaway_Daily_Returns\":\"Berkshire\",\n",
    "    \"Algo1_Daily_Returns\":\"Algo1\",\n",
    "    \"Algo2_Daily_Returns\":\"Algo2\",\n",
    "    \"SP_TSX_Daily_Returns\":\"SP_TSX\"\n",
    "})"
   ]
  },
  {
   "cell_type": "code",
   "execution_count": 25,
   "metadata": {},
   "outputs": [
    {
     "data": {
      "text/plain": [
       "<AxesSubplot:title={'center':'Portfolio Daily Returns'}, xlabel='Portfolio', ylabel='Daily Returns'>"
      ]
     },
     "execution_count": 25,
     "metadata": {},
     "output_type": "execute_result"
    },
    {
     "data": {
      "image/png": "[encoded data removed]",
      "text/plain": [
       "<Figure size 720x360 with 1 Axes>"
      ]
     },
     "metadata": {},
     "output_type": "display_data"
    }
   ],
   "source": [
    "# Box plot to visually show risk\n",
    "sb.set(rc={'figure.figsize':(10,5)})\n",
    "bplot_daily_returns=sb.boxplot(data=combined_daily_returns_df,width=0.5,palette=\"colorblind\")\n",
    "bplot_daily_returns.axes.set_title(\"Portfolio Daily Returns\",fontsize=15)\n",
    "bplot_daily_returns.set_xlabel(\"Portfolio\", fontsize=13)\n",
    "bplot_daily_returns.set_ylabel(\"Daily Returns\",fontsize=13)\n",
    "bplot_daily_returns.tick_params(labelsize=12)\n",
    "bplot_daily_returns"
   ]
  },
  {
   "cell_type": "markdown",
   "metadata": {},
   "source": [
    "### 5.2.2 Calculate Standard Deviations <a class=\"anchor\" id=\"5_2_2\"></a>"
   ]
  },
  {
   "cell_type": "code",
   "execution_count": 26,
   "metadata": {},
   "outputs": [
    {
     "data": {
      "text/plain": [
       "Paulson      0.006982\n",
       "SP_TSX       0.007034\n",
       "Algo1        0.007589\n",
       "Soros        0.007828\n",
       "Algo2        0.008326\n",
       "Tiger        0.010883\n",
       "Berkshire    0.012826\n",
       "dtype: float64"
      ]
     },
     "execution_count": 26,
     "metadata": {},
     "output_type": "execute_result"
    }
   ],
   "source": [
    "# Calculate the daily standard deviations of all portfolios and rank in order of volatility.Least to most volatile. \n",
    "combined_daily_std_df = combined_daily_returns_df.std()\n",
    "combined_daily_std_df = combined_daily_std_df.sort_values(ascending=True)\n",
    "combined_daily_std_df"
   ]
  },
  {
   "cell_type": "code",
   "execution_count": 27,
   "metadata": {},
   "outputs": [
    {
     "data": {
      "text/plain": [
       "<AxesSubplot:title={'center':'Standard Deviation'}>"
      ]
     },
     "execution_count": 27,
     "metadata": {},
     "output_type": "execute_result"
    },
    {
     "data": {
      "image/png": "[encoded data removed]",
      "text/plain": [
       "<Figure size 720x360 with 1 Axes>"
      ]
     },
     "metadata": {},
     "output_type": "display_data"
    }
   ],
   "source": [
    "# Visualize the standard deviation as a bar plot\n",
    "combined_daily_std_df.plot.bar(title=\"Standard Deviation\")"
   ]
  },
  {
   "cell_type": "markdown",
   "metadata": {},
   "source": [
    "### 5.2.3 Determine which portfolios are riskier than the S&P TSX 60 <a class=\"anchor\" id=\"5_2_3\"></a>"
   ]
  },
  {
   "cell_type": "markdown",
   "metadata": {},
   "source": [
    "Based on the above the calculated standard deviation for the S&P TSX 60 is 0.064354. It has the least volatile returns compared to the other stocks in the portfolio."
   ]
  },
  {
   "cell_type": "markdown",
   "metadata": {},
   "source": [
    "### 5.2.4 Calculate the Annualized Standard Deviation <a class=\"anchor\" id=\"5_2_4\"></a>"
   ]
  },
  {
   "cell_type": "code",
   "execution_count": 28,
   "metadata": {},
   "outputs": [
    {
     "data": {
      "text/plain": [
       "Paulson      0.110841\n",
       "SP_TSX       0.111664\n",
       "Algo1        0.120470\n",
       "Soros        0.124259\n",
       "Algo2        0.132177\n",
       "Tiger        0.172759\n",
       "Berkshire    0.203599\n",
       "dtype: float64"
      ]
     },
     "execution_count": 28,
     "metadata": {},
     "output_type": "execute_result"
    }
   ],
   "source": [
    "# Calculate the annualized standard deviation (252 trading days)\n",
    "combined_annualized_std_df = combined_daily_std_df * np.sqrt(252)\n",
    "combined_annualized_std_df"
   ]
  },
  {
   "cell_type": "code",
   "execution_count": 29,
   "metadata": {},
   "outputs": [
    {
     "data": {
      "text/plain": [
       "<AxesSubplot:title={'center':'Annualized Standard Deviation'}>"
      ]
     },
     "execution_count": 29,
     "metadata": {},
     "output_type": "execute_result"
    },
    {
     "data": {
      "image/png": "[encoded data removed]",
      "text/plain": [
       "<Figure size 720x360 with 1 Axes>"
      ]
     },
     "metadata": {},
     "output_type": "display_data"
    }
   ],
   "source": [
    "# Visualize the Annualized Standard Deviation as a bar plot\n",
    "combined_annualized_std_df.plot.bar(title=\"Annualized Standard Deviation\")"
   ]
  },
  {
   "cell_type": "markdown",
   "metadata": {},
   "source": [
    "---"
   ]
  },
  {
   "cell_type": "markdown",
   "metadata": {},
   "source": [
    "## 5.3 Rolling Statistics <a class=\"anchor\" id=\"5_3\"></a>\n",
    "\n",
    "Risk changes over time. Analyze the rolling statistics for Risk and Beta. \n",
    "\n",
    "1. Calculate and plot the rolling standard deviation for all portfolios using a 21-day window.\n",
    "2. Calculate the correlation between each stock to determine which portfolios may mimick the S&P TSX 60.\n",
    "3. Choose one portfolio, then calculate and plot the 60-day rolling beta for it and the S&P TSX 60."
   ]
  },
  {
   "cell_type": "markdown",
   "metadata": {},
   "source": [
    "### 5.3.1 Calculate and plot rolling `std` for all portfolios with 21-day window <a class=\"anchor\" id=\"5_3_1\"></a>"
   ]
  },
  {
   "cell_type": "code",
   "execution_count": 30,
   "metadata": {},
   "outputs": [
    {
     "data": {
      "text/html": [
       "<div>\n",
       "<style scoped>\n",
       "    .dataframe tbody tr th:only-of-type {\n",
       "        vertical-align: middle;\n",
       "    }\n",
       "\n",
       "    .dataframe tbody tr th {\n",
       "        vertical-align: top;\n",
       "    }\n",
       "\n",
       "    .dataframe thead th {\n",
       "        text-align: right;\n",
       "    }\n",
       "</style>\n",
       "<table border=\"1\" class=\"dataframe\">\n",
       "  <thead>\n",
       "    <tr style=\"text-align: right;\">\n",
       "      <th></th>\n",
       "      <th>Soros</th>\n",
       "      <th>Paulson</th>\n",
       "      <th>Tiger</th>\n",
       "      <th>Berkshire</th>\n",
       "      <th>Algo1</th>\n",
       "      <th>Algo2</th>\n",
       "      <th>SP_TSX</th>\n",
       "    </tr>\n",
       "    <tr>\n",
       "      <th>Date</th>\n",
       "      <th></th>\n",
       "      <th></th>\n",
       "      <th></th>\n",
       "      <th></th>\n",
       "      <th></th>\n",
       "      <th></th>\n",
       "      <th></th>\n",
       "    </tr>\n",
       "  </thead>\n",
       "  <tbody>\n",
       "    <tr>\n",
       "      <th>2015-03-03</th>\n",
       "      <td>NaN</td>\n",
       "      <td>NaN</td>\n",
       "      <td>NaN</td>\n",
       "      <td>NaN</td>\n",
       "      <td>NaN</td>\n",
       "      <td>NaN</td>\n",
       "      <td>NaN</td>\n",
       "    </tr>\n",
       "    <tr>\n",
       "      <th>2015-03-04</th>\n",
       "      <td>NaN</td>\n",
       "      <td>NaN</td>\n",
       "      <td>NaN</td>\n",
       "      <td>NaN</td>\n",
       "      <td>NaN</td>\n",
       "      <td>NaN</td>\n",
       "      <td>NaN</td>\n",
       "    </tr>\n",
       "    <tr>\n",
       "      <th>2015-03-05</th>\n",
       "      <td>NaN</td>\n",
       "      <td>NaN</td>\n",
       "      <td>NaN</td>\n",
       "      <td>NaN</td>\n",
       "      <td>NaN</td>\n",
       "      <td>NaN</td>\n",
       "      <td>NaN</td>\n",
       "    </tr>\n",
       "    <tr>\n",
       "      <th>2015-03-06</th>\n",
       "      <td>NaN</td>\n",
       "      <td>NaN</td>\n",
       "      <td>NaN</td>\n",
       "      <td>NaN</td>\n",
       "      <td>NaN</td>\n",
       "      <td>NaN</td>\n",
       "      <td>NaN</td>\n",
       "    </tr>\n",
       "    <tr>\n",
       "      <th>2015-03-09</th>\n",
       "      <td>NaN</td>\n",
       "      <td>NaN</td>\n",
       "      <td>NaN</td>\n",
       "      <td>NaN</td>\n",
       "      <td>NaN</td>\n",
       "      <td>NaN</td>\n",
       "      <td>NaN</td>\n",
       "    </tr>\n",
       "    <tr>\n",
       "      <th>...</th>\n",
       "      <td>...</td>\n",
       "      <td>...</td>\n",
       "      <td>...</td>\n",
       "      <td>...</td>\n",
       "      <td>...</td>\n",
       "      <td>...</td>\n",
       "      <td>...</td>\n",
       "    </tr>\n",
       "    <tr>\n",
       "      <th>2019-04-25</th>\n",
       "      <td>0.004145</td>\n",
       "      <td>0.005572</td>\n",
       "      <td>0.004917</td>\n",
       "      <td>0.006641</td>\n",
       "      <td>0.005801</td>\n",
       "      <td>0.005764</td>\n",
       "      <td>0.003370</td>\n",
       "    </tr>\n",
       "    <tr>\n",
       "      <th>2019-04-26</th>\n",
       "      <td>0.004117</td>\n",
       "      <td>0.005649</td>\n",
       "      <td>0.005424</td>\n",
       "      <td>0.006599</td>\n",
       "      <td>0.005562</td>\n",
       "      <td>0.005700</td>\n",
       "      <td>0.003321</td>\n",
       "    </tr>\n",
       "    <tr>\n",
       "      <th>2019-04-29</th>\n",
       "      <td>0.004123</td>\n",
       "      <td>0.005374</td>\n",
       "      <td>0.005438</td>\n",
       "      <td>0.006584</td>\n",
       "      <td>0.005251</td>\n",
       "      <td>0.005622</td>\n",
       "      <td>0.003356</td>\n",
       "    </tr>\n",
       "    <tr>\n",
       "      <th>2019-04-30</th>\n",
       "      <td>0.004199</td>\n",
       "      <td>0.005408</td>\n",
       "      <td>0.005419</td>\n",
       "      <td>0.006323</td>\n",
       "      <td>0.005294</td>\n",
       "      <td>0.005600</td>\n",
       "      <td>0.003240</td>\n",
       "    </tr>\n",
       "    <tr>\n",
       "      <th>2019-05-01</th>\n",
       "      <td>0.004271</td>\n",
       "      <td>0.005009</td>\n",
       "      <td>0.005744</td>\n",
       "      <td>0.006143</td>\n",
       "      <td>0.004972</td>\n",
       "      <td>0.005686</td>\n",
       "      <td>0.003150</td>\n",
       "    </tr>\n",
       "  </tbody>\n",
       "</table>\n",
       "<p>1029 rows × 7 columns</p>\n",
       "</div>"
      ],
      "text/plain": [
       "               Soros   Paulson     Tiger  Berkshire     Algo1     Algo2  \\\n",
       "Date                                                                      \n",
       "2015-03-03       NaN       NaN       NaN        NaN       NaN       NaN   \n",
       "2015-03-04       NaN       NaN       NaN        NaN       NaN       NaN   \n",
       "2015-03-05       NaN       NaN       NaN        NaN       NaN       NaN   \n",
       "2015-03-06       NaN       NaN       NaN        NaN       NaN       NaN   \n",
       "2015-03-09       NaN       NaN       NaN        NaN       NaN       NaN   \n",
       "...              ...       ...       ...        ...       ...       ...   \n",
       "2019-04-25  0.004145  0.005572  0.004917   0.006641  0.005801  0.005764   \n",
       "2019-04-26  0.004117  0.005649  0.005424   0.006599  0.005562  0.005700   \n",
       "2019-04-29  0.004123  0.005374  0.005438   0.006584  0.005251  0.005622   \n",
       "2019-04-30  0.004199  0.005408  0.005419   0.006323  0.005294  0.005600   \n",
       "2019-05-01  0.004271  0.005009  0.005744   0.006143  0.004972  0.005686   \n",
       "\n",
       "              SP_TSX  \n",
       "Date                  \n",
       "2015-03-03       NaN  \n",
       "2015-03-04       NaN  \n",
       "2015-03-05       NaN  \n",
       "2015-03-06       NaN  \n",
       "2015-03-09       NaN  \n",
       "...              ...  \n",
       "2019-04-25  0.003370  \n",
       "2019-04-26  0.003321  \n",
       "2019-04-29  0.003356  \n",
       "2019-04-30  0.003240  \n",
       "2019-05-01  0.003150  \n",
       "\n",
       "[1029 rows x 7 columns]"
      ]
     },
     "execution_count": 30,
     "metadata": {},
     "output_type": "execute_result"
    }
   ],
   "source": [
    "# Calculate the rolling standard deviation for all portfolios using a 21-day window\n",
    "combined_daily_returns_df.rolling(window=21).std()"
   ]
  },
  {
   "cell_type": "code",
   "execution_count": 31,
   "metadata": {},
   "outputs": [
    {
     "data": {
      "text/plain": [
       "<AxesSubplot:xlabel='Date'>"
      ]
     },
     "execution_count": 31,
     "metadata": {},
     "output_type": "execute_result"
    },
    {
     "data": {
      "image/png": "[encoded data removed]",
      "text/plain": [
       "<Figure size 720x360 with 1 Axes>"
      ]
     },
     "metadata": {},
     "output_type": "display_data"
    }
   ],
   "source": [
    "# Plot the rolling standard deviation\n",
    "combined_daily_returns_df.rolling(window=21).std().plot()"
   ]
  },
  {
   "cell_type": "markdown",
   "metadata": {},
   "source": [
    "### 5.3.2 Calculate and plot the correlation <a class=\"anchor\" id=\"5_3_2\"></a>"
   ]
  },
  {
   "cell_type": "code",
   "execution_count": 32,
   "metadata": {},
   "outputs": [
    {
     "data": {
      "text/html": [
       "<div>\n",
       "<style scoped>\n",
       "    .dataframe tbody tr th:only-of-type {\n",
       "        vertical-align: middle;\n",
       "    }\n",
       "\n",
       "    .dataframe tbody tr th {\n",
       "        vertical-align: top;\n",
       "    }\n",
       "\n",
       "    .dataframe thead th {\n",
       "        text-align: right;\n",
       "    }\n",
       "</style>\n",
       "<table border=\"1\" class=\"dataframe\">\n",
       "  <thead>\n",
       "    <tr style=\"text-align: right;\">\n",
       "      <th></th>\n",
       "      <th>Soros</th>\n",
       "      <th>Paulson</th>\n",
       "      <th>Tiger</th>\n",
       "      <th>Berkshire</th>\n",
       "      <th>Algo1</th>\n",
       "      <th>Algo2</th>\n",
       "      <th>SP_TSX</th>\n",
       "    </tr>\n",
       "  </thead>\n",
       "  <tbody>\n",
       "    <tr>\n",
       "      <th>Soros</th>\n",
       "      <td>1.000000</td>\n",
       "      <td>0.697076</td>\n",
       "      <td>0.560964</td>\n",
       "      <td>0.750181</td>\n",
       "      <td>0.313795</td>\n",
       "      <td>0.826667</td>\n",
       "      <td>0.673930</td>\n",
       "    </tr>\n",
       "    <tr>\n",
       "      <th>Paulson</th>\n",
       "      <td>0.697076</td>\n",
       "      <td>1.000000</td>\n",
       "      <td>0.433034</td>\n",
       "      <td>0.540033</td>\n",
       "      <td>0.266363</td>\n",
       "      <td>0.674015</td>\n",
       "      <td>0.486511</td>\n",
       "    </tr>\n",
       "    <tr>\n",
       "      <th>Tiger</th>\n",
       "      <td>0.560964</td>\n",
       "      <td>0.433034</td>\n",
       "      <td>1.000000</td>\n",
       "      <td>0.423524</td>\n",
       "      <td>0.161236</td>\n",
       "      <td>0.506689</td>\n",
       "      <td>0.440583</td>\n",
       "    </tr>\n",
       "    <tr>\n",
       "      <th>Berkshire</th>\n",
       "      <td>0.750181</td>\n",
       "      <td>0.540033</td>\n",
       "      <td>0.423524</td>\n",
       "      <td>1.000000</td>\n",
       "      <td>0.289378</td>\n",
       "      <td>0.684609</td>\n",
       "      <td>0.557250</td>\n",
       "    </tr>\n",
       "    <tr>\n",
       "      <th>Algo1</th>\n",
       "      <td>0.313795</td>\n",
       "      <td>0.266363</td>\n",
       "      <td>0.161236</td>\n",
       "      <td>0.289378</td>\n",
       "      <td>1.000000</td>\n",
       "      <td>0.285455</td>\n",
       "      <td>0.310276</td>\n",
       "    </tr>\n",
       "    <tr>\n",
       "      <th>Algo2</th>\n",
       "      <td>0.826667</td>\n",
       "      <td>0.674015</td>\n",
       "      <td>0.506689</td>\n",
       "      <td>0.684609</td>\n",
       "      <td>0.285455</td>\n",
       "      <td>1.000000</td>\n",
       "      <td>0.737370</td>\n",
       "    </tr>\n",
       "    <tr>\n",
       "      <th>SP_TSX</th>\n",
       "      <td>0.673930</td>\n",
       "      <td>0.486511</td>\n",
       "      <td>0.440583</td>\n",
       "      <td>0.557250</td>\n",
       "      <td>0.310276</td>\n",
       "      <td>0.737370</td>\n",
       "      <td>1.000000</td>\n",
       "    </tr>\n",
       "  </tbody>\n",
       "</table>\n",
       "</div>"
      ],
      "text/plain": [
       "              Soros   Paulson     Tiger  Berkshire     Algo1     Algo2  \\\n",
       "Soros      1.000000  0.697076  0.560964   0.750181  0.313795  0.826667   \n",
       "Paulson    0.697076  1.000000  0.433034   0.540033  0.266363  0.674015   \n",
       "Tiger      0.560964  0.433034  1.000000   0.423524  0.161236  0.506689   \n",
       "Berkshire  0.750181  0.540033  0.423524   1.000000  0.289378  0.684609   \n",
       "Algo1      0.313795  0.266363  0.161236   0.289378  1.000000  0.285455   \n",
       "Algo2      0.826667  0.674015  0.506689   0.684609  0.285455  1.000000   \n",
       "SP_TSX     0.673930  0.486511  0.440583   0.557250  0.310276  0.737370   \n",
       "\n",
       "             SP_TSX  \n",
       "Soros      0.673930  \n",
       "Paulson    0.486511  \n",
       "Tiger      0.440583  \n",
       "Berkshire  0.557250  \n",
       "Algo1      0.310276  \n",
       "Algo2      0.737370  \n",
       "SP_TSX     1.000000  "
      ]
     },
     "execution_count": 32,
     "metadata": {},
     "output_type": "execute_result"
    }
   ],
   "source": [
    "# Calculate the correlation\n",
    "combined_correlation_df = combined_daily_returns_df.corr()\n",
    "combined_correlation_df\n",
    "# Display de correlation matrix"
   ]
  },
  {
   "cell_type": "code",
   "execution_count": 33,
   "metadata": {},
   "outputs": [
    {
     "data": {
      "text/plain": [
       "<AxesSubplot:>"
      ]
     },
     "execution_count": 33,
     "metadata": {},
     "output_type": "execute_result"
    },
    {
     "data": {
      "image/png": "[encoded data removed]",
      "text/plain": [
       "<Figure size 720x360 with 2 Axes>"
      ]
     },
     "metadata": {},
     "output_type": "display_data"
    }
   ],
   "source": [
    "sb.heatmap(combined_correlation_df, vmin=-1, vmax=1)"
   ]
  },
  {
   "cell_type": "markdown",
   "metadata": {},
   "source": [
    "### 5.3.3 Calculate and Plot Beta for a chosen portfolio and the S&P 60 TSX <a class=\"anchor\" id=\"5_3_3\"></a>"
   ]
  },
  {
   "cell_type": "code",
   "execution_count": 34,
   "metadata": {},
   "outputs": [
    {
     "data": {
      "text/plain": [
       "2.3894916563613417e-05"
      ]
     },
     "execution_count": 34,
     "metadata": {},
     "output_type": "execute_result"
    }
   ],
   "source": [
    "# Calculate covariance of a single portfolio\n",
    "covariance_df = combined_daily_returns_df['Paulson'].cov(combined_daily_returns_df['SP_TSX'])\n",
    "covariance_df"
   ]
  },
  {
   "cell_type": "code",
   "execution_count": 35,
   "metadata": {},
   "outputs": [
    {
     "data": {
      "text/plain": [
       "4.947951591513103e-05"
      ]
     },
     "execution_count": 35,
     "metadata": {},
     "output_type": "execute_result"
    }
   ],
   "source": [
    "# Calculate variance of S&P TSX\n",
    "variance_df = combined_daily_returns_df['SP_TSX'].var()\n",
    "variance_df"
   ]
  },
  {
   "cell_type": "code",
   "execution_count": 36,
   "metadata": {},
   "outputs": [
    {
     "data": {
      "text/plain": [
       "0.4829254312956255"
      ]
     },
     "execution_count": 36,
     "metadata": {},
     "output_type": "execute_result"
    }
   ],
   "source": [
    "# Computing beta\n",
    "Paulson_beta = covariance_df / variance_df\n",
    "Paulson_beta"
   ]
  },
  {
   "cell_type": "code",
   "execution_count": 37,
   "metadata": {},
   "outputs": [
    {
     "data": {
      "text/plain": [
       "<AxesSubplot:title={'center':'Rolling 60-Day Beta of Paulson'}, xlabel='Date'>"
      ]
     },
     "execution_count": 37,
     "metadata": {},
     "output_type": "execute_result"
    },
    {
     "data": {
      "image/png": "[encoded data removed]",
      "text/plain": [
       "<Figure size 1440x720 with 1 Axes>"
      ]
     },
     "metadata": {},
     "output_type": "display_data"
    }
   ],
   "source": [
    "# Calculate 60-day rolling beta of Paulson and plot the data\n",
    "rolling_variance_df = combined_daily_returns_df['SP_TSX'].rolling(window=60).var()\n",
    "rolling_covariance_df = combined_daily_returns_df['Paulson'].rolling(window=60).cov(combined_daily_returns_df['SP_TSX'])\n",
    "rolling_beta_df = rolling_covariance_df / rolling_variance_df\n",
    "rolling_beta_df.plot(figsize=(20, 10), title='Rolling 60-Day Beta of Paulson')"
   ]
  },
  {
   "cell_type": "markdown",
   "metadata": {},
   "source": [
    "## 5.4 Rolling Statistics Challenge: Exponentially Weighted Average  <a class=\"anchor\" id=\"5_4\"></a>\n",
    "\n",
    "An alternative way to calculate a rolling window is to take the exponentially weighted moving average. This is like a moving window average, but it assigns greater importance to more recent observations. Try calculating the [`ewm`](https://pandas.pydata.org/pandas-docs/stable/reference/api/pandas.DataFrame.ewm.html) with a 21-day half life for each portfolio, using standard deviation (`std`) as the metric of interest."
   ]
  },
  {
   "cell_type": "code",
   "execution_count": 38,
   "metadata": {},
   "outputs": [],
   "source": [
    "# Use `ewm` to calculate the rolling window\n"
   ]
  },
  {
   "cell_type": "markdown",
   "metadata": {},
   "source": [
    "---"
   ]
  },
  {
   "cell_type": "markdown",
   "metadata": {},
   "source": [
    "# 6. Sharpe Ratios <a class=\"anchor\" id=\"6\"></a>\n",
    "In reality, investment managers and thier institutional investors look at the ratio of return-to-risk, and not just returns alone. After all, if you could invest in one of two portfolios, and each offered the same 10% return, yet one offered lower risk, you'd take that one, right?\n",
    "\n",
    "## 6.1 Using the daily returns, calculate and visualize the Sharpe ratios using a bar plot <a class=\"anchor\" id=\"6_1\"></a>"
   ]
  },
  {
   "cell_type": "code",
   "execution_count": 39,
   "metadata": {},
   "outputs": [
    {
     "data": {
      "text/plain": [
       "Algo1        1.491514\n",
       "Berkshire    0.467045\n",
       "Algo2        0.396817\n",
       "Soros        0.286709\n",
       "SP_TSX       0.195550\n",
       "Tiger       -0.144455\n",
       "Paulson     -0.547594\n",
       "dtype: float64"
      ]
     },
     "execution_count": 39,
     "metadata": {},
     "output_type": "execute_result"
    }
   ],
   "source": [
    "# Annualized Sharpe Ratios\n",
    "combined_sharpe_ratios_df = (combined_daily_returns_df.mean() * 252) / (combined_annualized_std_df)\n",
    "combined_sharpe_ratios_df = combined_sharpe_ratios_df.sort_values(ascending=False)\n",
    "combined_sharpe_ratios_df"
   ]
  },
  {
   "cell_type": "code",
   "execution_count": 40,
   "metadata": {},
   "outputs": [
    {
     "data": {
      "text/plain": [
       "<AxesSubplot:title={'center':'Sharpe Ratios'}>"
      ]
     },
     "execution_count": 40,
     "metadata": {},
     "output_type": "execute_result"
    },
    {
     "data": {
      "image/png": "[encoded data removed]",
      "text/plain": [
       "<Figure size 720x360 with 1 Axes>"
      ]
     },
     "metadata": {},
     "output_type": "display_data"
    }
   ],
   "source": [
    "# Visualize the sharpe ratios as a bar plot\n",
    "combined_sharpe_ratios_df.plot.bar(title=\"Sharpe Ratios\")\n"
   ]
  },
  {
   "cell_type": "markdown",
   "metadata": {},
   "source": [
    "## 6.2 Determine whether the algorithmic strategies outperform both the market (S&P TSX 60) and the whales portfolios. <a class=\"anchor\" id=\"6_2\"></a>\n",
    "\n",
    "Write your answer here!"
   ]
  },
  {
   "cell_type": "markdown",
   "metadata": {},
   "source": [
    "---"
   ]
  },
  {
   "cell_type": "markdown",
   "metadata": {},
   "source": [
    "# 7. Create Custom Portfolio <a class=\"anchor\" id=\"7\"></a>\n",
    "\n",
    "In this section, you will build your own portfolio of stocks, calculate the returns, and compare the results to the Whale Portfolios and the S&P TSX 60. \n",
    "\n",
    "1. Choose 3-5 custom stocks with at last 1 year's worth of historic prices and create a DataFrame of the closing prices and dates for each stock.\n",
    "2. Calculate the weighted returns for the portfolio assuming an equal number of shares for each stock.\n",
    "3. Join your portfolio returns to the DataFrame that contains all of the portfolio returns.\n",
    "4. Re-run the performance and risk analysis with your portfolio to see how it compares to the others.\n",
    "5. Include correlation analysis to determine which stocks (if any) are correlated."
   ]
  },
  {
   "cell_type": "markdown",
   "metadata": {},
   "source": [
    "## 7.1 Choose 3-5 custom stocks with at last 1 year's worth of historic prices and create a DataFrame of the closing prices and dates for each stock. <a class=\"anchor\" id=\"7_1\"></a>"
   ]
  },
  {
   "cell_type": "code",
   "execution_count": 41,
   "metadata": {},
   "outputs": [
    {
     "data": {
      "text/html": [
       "<div>\n",
       "<style scoped>\n",
       "    .dataframe tbody tr th:only-of-type {\n",
       "        vertical-align: middle;\n",
       "    }\n",
       "\n",
       "    .dataframe tbody tr th {\n",
       "        vertical-align: top;\n",
       "    }\n",
       "\n",
       "    .dataframe thead th {\n",
       "        text-align: right;\n",
       "    }\n",
       "</style>\n",
       "<table border=\"1\" class=\"dataframe\">\n",
       "  <thead>\n",
       "    <tr style=\"text-align: right;\">\n",
       "      <th></th>\n",
       "      <th>Amazon_close</th>\n",
       "    </tr>\n",
       "    <tr>\n",
       "      <th>Date</th>\n",
       "      <th></th>\n",
       "    </tr>\n",
       "  </thead>\n",
       "  <tbody>\n",
       "    <tr>\n",
       "      <th>2019-01-02</th>\n",
       "      <td>1539.13</td>\n",
       "    </tr>\n",
       "    <tr>\n",
       "      <th>2019-01-03</th>\n",
       "      <td>1500.28</td>\n",
       "    </tr>\n",
       "    <tr>\n",
       "      <th>2019-01-04</th>\n",
       "      <td>1575.39</td>\n",
       "    </tr>\n",
       "    <tr>\n",
       "      <th>2019-01-07</th>\n",
       "      <td>1629.51</td>\n",
       "    </tr>\n",
       "    <tr>\n",
       "      <th>2019-01-08</th>\n",
       "      <td>1656.58</td>\n",
       "    </tr>\n",
       "  </tbody>\n",
       "</table>\n",
       "</div>"
      ],
      "text/plain": [
       "            Amazon_close\n",
       "Date                    \n",
       "2019-01-02       1539.13\n",
       "2019-01-03       1500.28\n",
       "2019-01-04       1575.39\n",
       "2019-01-07       1629.51\n",
       "2019-01-08       1656.58"
      ]
     },
     "execution_count": 41,
     "metadata": {},
     "output_type": "execute_result"
    }
   ],
   "source": [
    "# Reading data from 1st stock\n",
    "amazon_sheet_url = 'https://docs.google.com/spreadsheets/d/e/2PACX-1vR0dmZA3fuayFdrNqjfwmfNs-ZpSfpFxsrQ8ZZOUZCJDfJJ_zsrcfBcUobC12RUxJlWRBpS5TU2NanJ/pub?gid=0&single=true&output=csv'\n",
    "amazon_close_df=pd.read_csv(amazon_sheet_url, index_col=\"Date\",parse_dates=True,infer_datetime_format=True)\n",
    "amazon_close_df.index = amazon_close_df.index.strftime('%Y-%m-%d')\n",
    "amazon_close_df = amazon_close_df.sort_index()\n",
    "amazon_close_df = amazon_close_df.rename(columns={\n",
    "    \"Close\": \"Amazon_close\"\n",
    "})\n",
    "amazon_close_df.head(5)"
   ]
  },
  {
   "cell_type": "code",
   "execution_count": 42,
   "metadata": {},
   "outputs": [
    {
     "data": {
      "text/html": [
       "<div>\n",
       "<style scoped>\n",
       "    .dataframe tbody tr th:only-of-type {\n",
       "        vertical-align: middle;\n",
       "    }\n",
       "\n",
       "    .dataframe tbody tr th {\n",
       "        vertical-align: top;\n",
       "    }\n",
       "\n",
       "    .dataframe thead th {\n",
       "        text-align: right;\n",
       "    }\n",
       "</style>\n",
       "<table border=\"1\" class=\"dataframe\">\n",
       "  <thead>\n",
       "    <tr style=\"text-align: right;\">\n",
       "      <th></th>\n",
       "      <th>Moderna_close</th>\n",
       "    </tr>\n",
       "    <tr>\n",
       "      <th>Date</th>\n",
       "      <th></th>\n",
       "    </tr>\n",
       "  </thead>\n",
       "  <tbody>\n",
       "    <tr>\n",
       "      <th>2019-01-02</th>\n",
       "      <td>15.33</td>\n",
       "    </tr>\n",
       "    <tr>\n",
       "      <th>2019-01-03</th>\n",
       "      <td>15.50</td>\n",
       "    </tr>\n",
       "    <tr>\n",
       "      <th>2019-01-04</th>\n",
       "      <td>16.96</td>\n",
       "    </tr>\n",
       "    <tr>\n",
       "      <th>2019-01-07</th>\n",
       "      <td>16.27</td>\n",
       "    </tr>\n",
       "    <tr>\n",
       "      <th>2019-01-08</th>\n",
       "      <td>16.95</td>\n",
       "    </tr>\n",
       "  </tbody>\n",
       "</table>\n",
       "</div>"
      ],
      "text/plain": [
       "            Moderna_close\n",
       "Date                     \n",
       "2019-01-02          15.33\n",
       "2019-01-03          15.50\n",
       "2019-01-04          16.96\n",
       "2019-01-07          16.27\n",
       "2019-01-08          16.95"
      ]
     },
     "execution_count": 42,
     "metadata": {},
     "output_type": "execute_result"
    }
   ],
   "source": [
    "# Reading data from 2nd stock\n",
    "moderna_sheet_url = 'https://docs.google.com/spreadsheets/d/e/2PACX-1vR0dmZA3fuayFdrNqjfwmfNs-ZpSfpFxsrQ8ZZOUZCJDfJJ_zsrcfBcUobC12RUxJlWRBpS5TU2NanJ/pub?gid=485576954&single=true&output=csv'\n",
    "moderna_close_df=pd.read_csv(moderna_sheet_url, index_col=\"Date\",parse_dates=True,infer_datetime_format=True)\n",
    "moderna_close_df.index = moderna_close_df.index.strftime('%Y-%m-%d')\n",
    "moderna_close_df = moderna_close_df.sort_index()\n",
    "moderna_close_df = moderna_close_df.rename(columns={\n",
    "    \"Close\": \"Moderna_close\"\n",
    "})\n",
    "moderna_close_df.head(5)"
   ]
  },
  {
   "cell_type": "code",
   "execution_count": 43,
   "metadata": {},
   "outputs": [
    {
     "data": {
      "text/html": [
       "<div>\n",
       "<style scoped>\n",
       "    .dataframe tbody tr th:only-of-type {\n",
       "        vertical-align: middle;\n",
       "    }\n",
       "\n",
       "    .dataframe tbody tr th {\n",
       "        vertical-align: top;\n",
       "    }\n",
       "\n",
       "    .dataframe thead th {\n",
       "        text-align: right;\n",
       "    }\n",
       "</style>\n",
       "<table border=\"1\" class=\"dataframe\">\n",
       "  <thead>\n",
       "    <tr style=\"text-align: right;\">\n",
       "      <th></th>\n",
       "      <th>Netflix_close</th>\n",
       "    </tr>\n",
       "    <tr>\n",
       "      <th>Date</th>\n",
       "      <th></th>\n",
       "    </tr>\n",
       "  </thead>\n",
       "  <tbody>\n",
       "    <tr>\n",
       "      <th>2019-01-02</th>\n",
       "      <td>267.66</td>\n",
       "    </tr>\n",
       "    <tr>\n",
       "      <th>2019-01-03</th>\n",
       "      <td>271.20</td>\n",
       "    </tr>\n",
       "    <tr>\n",
       "      <th>2019-01-04</th>\n",
       "      <td>297.57</td>\n",
       "    </tr>\n",
       "    <tr>\n",
       "      <th>2019-01-07</th>\n",
       "      <td>315.34</td>\n",
       "    </tr>\n",
       "    <tr>\n",
       "      <th>2019-01-08</th>\n",
       "      <td>320.27</td>\n",
       "    </tr>\n",
       "  </tbody>\n",
       "</table>\n",
       "</div>"
      ],
      "text/plain": [
       "            Netflix_close\n",
       "Date                     \n",
       "2019-01-02         267.66\n",
       "2019-01-03         271.20\n",
       "2019-01-04         297.57\n",
       "2019-01-07         315.34\n",
       "2019-01-08         320.27"
      ]
     },
     "execution_count": 43,
     "metadata": {},
     "output_type": "execute_result"
    }
   ],
   "source": [
    "# Reading data from 3rd stock\n",
    "netflix_sheet_url = 'https://docs.google.com/spreadsheets/d/e/2PACX-1vR0dmZA3fuayFdrNqjfwmfNs-ZpSfpFxsrQ8ZZOUZCJDfJJ_zsrcfBcUobC12RUxJlWRBpS5TU2NanJ/pub?gid=111281906&single=true&output=csv'\n",
    "netflix_close_df=pd.read_csv(netflix_sheet_url, index_col=\"Date\",parse_dates=True,infer_datetime_format=True)\n",
    "netflix_close_df.index = netflix_close_df.index.strftime('%Y-%m-%d')\n",
    "netflix_close_df = netflix_close_df.sort_index()\n",
    "netflix_close_df = netflix_close_df.rename(columns={\n",
    "    \"Close\": \"Netflix_close\"\n",
    "})\n",
    "netflix_close_df.head(5)"
   ]
  },
  {
   "cell_type": "code",
   "execution_count": 44,
   "metadata": {},
   "outputs": [
    {
     "data": {
      "text/html": [
       "<div>\n",
       "<style scoped>\n",
       "    .dataframe tbody tr th:only-of-type {\n",
       "        vertical-align: middle;\n",
       "    }\n",
       "\n",
       "    .dataframe tbody tr th {\n",
       "        vertical-align: top;\n",
       "    }\n",
       "\n",
       "    .dataframe thead th {\n",
       "        text-align: right;\n",
       "    }\n",
       "</style>\n",
       "<table border=\"1\" class=\"dataframe\">\n",
       "  <thead>\n",
       "    <tr style=\"text-align: right;\">\n",
       "      <th></th>\n",
       "      <th>Amazon_close</th>\n",
       "      <th>Moderna_close</th>\n",
       "      <th>Netflix_close</th>\n",
       "    </tr>\n",
       "    <tr>\n",
       "      <th>Date</th>\n",
       "      <th></th>\n",
       "      <th></th>\n",
       "      <th></th>\n",
       "    </tr>\n",
       "  </thead>\n",
       "  <tbody>\n",
       "    <tr>\n",
       "      <th>2019-01-02</th>\n",
       "      <td>1539.13</td>\n",
       "      <td>15.33</td>\n",
       "      <td>267.66</td>\n",
       "    </tr>\n",
       "    <tr>\n",
       "      <th>2019-01-03</th>\n",
       "      <td>1500.28</td>\n",
       "      <td>15.50</td>\n",
       "      <td>271.20</td>\n",
       "    </tr>\n",
       "    <tr>\n",
       "      <th>2019-01-04</th>\n",
       "      <td>1575.39</td>\n",
       "      <td>16.96</td>\n",
       "      <td>297.57</td>\n",
       "    </tr>\n",
       "    <tr>\n",
       "      <th>2019-01-07</th>\n",
       "      <td>1629.51</td>\n",
       "      <td>16.27</td>\n",
       "      <td>315.34</td>\n",
       "    </tr>\n",
       "    <tr>\n",
       "      <th>2019-01-08</th>\n",
       "      <td>1656.58</td>\n",
       "      <td>16.95</td>\n",
       "      <td>320.27</td>\n",
       "    </tr>\n",
       "  </tbody>\n",
       "</table>\n",
       "</div>"
      ],
      "text/plain": [
       "            Amazon_close  Moderna_close  Netflix_close\n",
       "Date                                                  \n",
       "2019-01-02       1539.13          15.33         267.66\n",
       "2019-01-03       1500.28          15.50         271.20\n",
       "2019-01-04       1575.39          16.96         297.57\n",
       "2019-01-07       1629.51          16.27         315.34\n",
       "2019-01-08       1656.58          16.95         320.27"
      ]
     },
     "execution_count": 44,
     "metadata": {},
     "output_type": "execute_result"
    }
   ],
   "source": [
    "# Combine all stocks in a single DataFrame\n",
    "custportfolio_combined_daily_close_df = pd.concat(\n",
    "[amazon_close_df, moderna_close_df, netflix_close_df], axis=\"columns\", join=\"inner\"\n",
    ")\n",
    "custportfolio_combined_daily_close_df.head(5)"
   ]
  },
  {
   "cell_type": "code",
   "execution_count": 45,
   "metadata": {},
   "outputs": [],
   "source": [
    "# Reorganize portfolio data by having a column per symbol\n"
   ]
  },
  {
   "cell_type": "code",
   "execution_count": 46,
   "metadata": {},
   "outputs": [
    {
     "data": {
      "text/plain": [
       "AMZN    0\n",
       "MRNA    0\n",
       "NFLX    0\n",
       "dtype: int64"
      ]
     },
     "execution_count": 46,
     "metadata": {},
     "output_type": "execute_result"
    }
   ],
   "source": [
    "# Calculate daily returns\n",
    "custportfolio_combined_daily_returns_df=custportfolio_combined_daily_close_df.pct_change()\n",
    "custportfolio_combined_daily_returns_df = custportfolio_combined_daily_returns_df.rename(columns={\n",
    "    \"Amazon_close\":\"AMZN\",\n",
    "    \"Moderna_close\":\"MRNA\",\n",
    "    \"Netflix_close\":\"NFLX\"\n",
    "})\n",
    "\n",
    "# Drop NAs\n",
    "custportfolio_combined_daily_returns_df = custportfolio_combined_daily_returns_df.dropna().copy()\n",
    "\n",
    "# Verify NAs dropped\n",
    "custportfolio_combined_daily_returns_df.isnull().sum()"
   ]
  },
  {
   "cell_type": "code",
   "execution_count": 47,
   "metadata": {},
   "outputs": [
    {
     "data": {
      "text/html": [
       "<div>\n",
       "<style scoped>\n",
       "    .dataframe tbody tr th:only-of-type {\n",
       "        vertical-align: middle;\n",
       "    }\n",
       "\n",
       "    .dataframe tbody tr th {\n",
       "        vertical-align: top;\n",
       "    }\n",
       "\n",
       "    .dataframe thead th {\n",
       "        text-align: right;\n",
       "    }\n",
       "</style>\n",
       "<table border=\"1\" class=\"dataframe\">\n",
       "  <thead>\n",
       "    <tr style=\"text-align: right;\">\n",
       "      <th></th>\n",
       "      <th>AMZN</th>\n",
       "      <th>MRNA</th>\n",
       "      <th>NFLX</th>\n",
       "    </tr>\n",
       "    <tr>\n",
       "      <th>Date</th>\n",
       "      <th></th>\n",
       "      <th></th>\n",
       "      <th></th>\n",
       "    </tr>\n",
       "  </thead>\n",
       "  <tbody>\n",
       "    <tr>\n",
       "      <th>2019-01-03</th>\n",
       "      <td>-0.025242</td>\n",
       "      <td>0.011089</td>\n",
       "      <td>0.013226</td>\n",
       "    </tr>\n",
       "    <tr>\n",
       "      <th>2019-01-04</th>\n",
       "      <td>0.050064</td>\n",
       "      <td>0.094194</td>\n",
       "      <td>0.097235</td>\n",
       "    </tr>\n",
       "    <tr>\n",
       "      <th>2019-01-07</th>\n",
       "      <td>0.034353</td>\n",
       "      <td>-0.040684</td>\n",
       "      <td>0.059717</td>\n",
       "    </tr>\n",
       "    <tr>\n",
       "      <th>2019-01-08</th>\n",
       "      <td>0.016612</td>\n",
       "      <td>0.041795</td>\n",
       "      <td>0.015634</td>\n",
       "    </tr>\n",
       "    <tr>\n",
       "      <th>2019-01-09</th>\n",
       "      <td>0.001714</td>\n",
       "      <td>-0.036578</td>\n",
       "      <td>-0.000968</td>\n",
       "    </tr>\n",
       "  </tbody>\n",
       "</table>\n",
       "</div>"
      ],
      "text/plain": [
       "                AMZN      MRNA      NFLX\n",
       "Date                                    \n",
       "2019-01-03 -0.025242  0.011089  0.013226\n",
       "2019-01-04  0.050064  0.094194  0.097235\n",
       "2019-01-07  0.034353 -0.040684  0.059717\n",
       "2019-01-08  0.016612  0.041795  0.015634\n",
       "2019-01-09  0.001714 -0.036578 -0.000968"
      ]
     },
     "execution_count": 47,
     "metadata": {},
     "output_type": "execute_result"
    }
   ],
   "source": [
    "# Display sample data\n",
    "custportfolio_combined_daily_returns_df.head(5)"
   ]
  },
  {
   "cell_type": "markdown",
   "metadata": {},
   "source": [
    "## 7.2 Calculate the weighted returns for the portfolio assuming an equal number of shares for each stock <a class=\"anchor\" id=\"7_2\"></a>"
   ]
  },
  {
   "cell_type": "code",
   "execution_count": 48,
   "metadata": {},
   "outputs": [
    {
     "data": {
      "text/html": [
       "<div>\n",
       "<style scoped>\n",
       "    .dataframe tbody tr th:only-of-type {\n",
       "        vertical-align: middle;\n",
       "    }\n",
       "\n",
       "    .dataframe tbody tr th {\n",
       "        vertical-align: top;\n",
       "    }\n",
       "\n",
       "    .dataframe thead th {\n",
       "        text-align: right;\n",
       "    }\n",
       "</style>\n",
       "<table border=\"1\" class=\"dataframe\">\n",
       "  <thead>\n",
       "    <tr style=\"text-align: right;\">\n",
       "      <th></th>\n",
       "      <th>PORTFOLIO</th>\n",
       "    </tr>\n",
       "    <tr>\n",
       "      <th>Date</th>\n",
       "      <th></th>\n",
       "    </tr>\n",
       "  </thead>\n",
       "  <tbody>\n",
       "    <tr>\n",
       "      <th>2019-01-22</th>\n",
       "      <td>-0.048366</td>\n",
       "    </tr>\n",
       "    <tr>\n",
       "      <th>2019-05-07</th>\n",
       "      <td>-0.043206</td>\n",
       "    </tr>\n",
       "    <tr>\n",
       "      <th>2019-08-14</th>\n",
       "      <td>-0.038915</td>\n",
       "    </tr>\n",
       "    <tr>\n",
       "      <th>2019-06-03</th>\n",
       "      <td>-0.036477</td>\n",
       "    </tr>\n",
       "    <tr>\n",
       "      <th>2019-08-05</th>\n",
       "      <td>-0.034294</td>\n",
       "    </tr>\n",
       "  </tbody>\n",
       "</table>\n",
       "</div>"
      ],
      "text/plain": [
       "            PORTFOLIO\n",
       "Date                 \n",
       "2019-01-22  -0.048366\n",
       "2019-05-07  -0.043206\n",
       "2019-08-14  -0.038915\n",
       "2019-06-03  -0.036477\n",
       "2019-08-05  -0.034294"
      ]
     },
     "execution_count": 48,
     "metadata": {},
     "output_type": "execute_result"
    }
   ],
   "source": [
    "# Set weights\n",
    "amazon_weight = 0.33\n",
    "moderna_weight = 0.33\n",
    "netflix_weight = 0.33\n",
    "\n",
    "# Calculate portfolio return\n",
    "custportfolio_weighted_returns_df = amazon_weight * custportfolio_combined_daily_returns_df[\"AMZN\"] + moderna_weight * custportfolio_combined_daily_returns_df[\"MRNA\"] + netflix_weight * custportfolio_combined_daily_returns_df[\"NFLX\"] \n",
    "custportfolio_weighted_returns_df = custportfolio_weighted_returns_df.sort_values(ascending=True)\n",
    "custportfolio_weighted_returns_df = pd.DataFrame(custportfolio_weighted_returns_df, columns=['PORTFOLIO'])\n",
    "custportfolio_weighted_returns_df.head()\n",
    "\n",
    "# Display sample data\n"
   ]
  },
  {
   "cell_type": "markdown",
   "metadata": {},
   "source": [
    "## 7.3 Join your portfolio returns to the DataFrame that contains all of the portfolio returns <a class=\"anchor\" id=\"7_3\"></a>"
   ]
  },
  {
   "cell_type": "code",
   "execution_count": 49,
   "metadata": {},
   "outputs": [],
   "source": [
    "combined_daily_returns_df.index = combined_daily_returns_df.index.strftime('%Y-%m-%d')\n",
    "combined_daily_returns_df = combined_daily_returns_df.sort_index()\n",
    "custportfolio_combined_daily_returns_df = custportfolio_combined_daily_returns_df.sort_index()\n"
   ]
  },
  {
   "cell_type": "code",
   "execution_count": 50,
   "metadata": {},
   "outputs": [
    {
     "data": {
      "text/html": [
       "<div>\n",
       "<style scoped>\n",
       "    .dataframe tbody tr th:only-of-type {\n",
       "        vertical-align: middle;\n",
       "    }\n",
       "\n",
       "    .dataframe tbody tr th {\n",
       "        vertical-align: top;\n",
       "    }\n",
       "\n",
       "    .dataframe thead th {\n",
       "        text-align: right;\n",
       "    }\n",
       "</style>\n",
       "<table border=\"1\" class=\"dataframe\">\n",
       "  <thead>\n",
       "    <tr style=\"text-align: right;\">\n",
       "      <th></th>\n",
       "      <th>Soros</th>\n",
       "      <th>Paulson</th>\n",
       "      <th>Tiger</th>\n",
       "      <th>Berkshire</th>\n",
       "      <th>Algo1</th>\n",
       "      <th>Algo2</th>\n",
       "      <th>SP_TSX</th>\n",
       "      <th>AMZN</th>\n",
       "      <th>MRNA</th>\n",
       "      <th>NFLX</th>\n",
       "      <th>PORTFOLIO</th>\n",
       "    </tr>\n",
       "    <tr>\n",
       "      <th>Date</th>\n",
       "      <th></th>\n",
       "      <th></th>\n",
       "      <th></th>\n",
       "      <th></th>\n",
       "      <th></th>\n",
       "      <th></th>\n",
       "      <th></th>\n",
       "      <th></th>\n",
       "      <th></th>\n",
       "      <th></th>\n",
       "      <th></th>\n",
       "    </tr>\n",
       "  </thead>\n",
       "  <tbody>\n",
       "    <tr>\n",
       "      <th>2019-01-03</th>\n",
       "      <td>-0.007848</td>\n",
       "      <td>-0.007403</td>\n",
       "      <td>-0.008478</td>\n",
       "      <td>-0.032053</td>\n",
       "      <td>0.015246</td>\n",
       "      <td>-0.011792</td>\n",
       "      <td>-0.009368</td>\n",
       "      <td>-0.025242</td>\n",
       "      <td>0.011089</td>\n",
       "      <td>0.013226</td>\n",
       "      <td>-0.000306</td>\n",
       "    </tr>\n",
       "    <tr>\n",
       "      <th>2019-01-04</th>\n",
       "      <td>0.029881</td>\n",
       "      <td>0.027032</td>\n",
       "      <td>0.033560</td>\n",
       "      <td>0.061341</td>\n",
       "      <td>0.017622</td>\n",
       "      <td>0.030509</td>\n",
       "      <td>0.015048</td>\n",
       "      <td>0.050064</td>\n",
       "      <td>0.094194</td>\n",
       "      <td>0.097235</td>\n",
       "      <td>0.079692</td>\n",
       "    </tr>\n",
       "    <tr>\n",
       "      <th>2019-01-07</th>\n",
       "      <td>0.009051</td>\n",
       "      <td>0.014475</td>\n",
       "      <td>0.014111</td>\n",
       "      <td>0.017185</td>\n",
       "      <td>0.014748</td>\n",
       "      <td>0.016942</td>\n",
       "      <td>0.005373</td>\n",
       "      <td>0.034353</td>\n",
       "      <td>-0.040684</td>\n",
       "      <td>0.059717</td>\n",
       "      <td>0.017618</td>\n",
       "    </tr>\n",
       "    <tr>\n",
       "      <th>2019-01-08</th>\n",
       "      <td>0.010760</td>\n",
       "      <td>0.008050</td>\n",
       "      <td>0.001544</td>\n",
       "      <td>0.005851</td>\n",
       "      <td>0.010825</td>\n",
       "      <td>0.010479</td>\n",
       "      <td>0.006965</td>\n",
       "      <td>0.016612</td>\n",
       "      <td>0.041795</td>\n",
       "      <td>0.015634</td>\n",
       "      <td>0.024434</td>\n",
       "    </tr>\n",
       "    <tr>\n",
       "      <th>2019-01-09</th>\n",
       "      <td>0.008630</td>\n",
       "      <td>-0.000800</td>\n",
       "      <td>-0.000534</td>\n",
       "      <td>0.019788</td>\n",
       "      <td>0.000214</td>\n",
       "      <td>0.009658</td>\n",
       "      <td>0.013665</td>\n",
       "      <td>0.001714</td>\n",
       "      <td>-0.036578</td>\n",
       "      <td>-0.000968</td>\n",
       "      <td>-0.011824</td>\n",
       "    </tr>\n",
       "    <tr>\n",
       "      <th>...</th>\n",
       "      <td>...</td>\n",
       "      <td>...</td>\n",
       "      <td>...</td>\n",
       "      <td>...</td>\n",
       "      <td>...</td>\n",
       "      <td>...</td>\n",
       "      <td>...</td>\n",
       "      <td>...</td>\n",
       "      <td>...</td>\n",
       "      <td>...</td>\n",
       "      <td>...</td>\n",
       "    </tr>\n",
       "    <tr>\n",
       "      <th>2019-04-25</th>\n",
       "      <td>-0.000285</td>\n",
       "      <td>-0.001291</td>\n",
       "      <td>-0.005153</td>\n",
       "      <td>0.004848</td>\n",
       "      <td>0.000682</td>\n",
       "      <td>-0.007247</td>\n",
       "      <td>-0.000628</td>\n",
       "      <td>0.000263</td>\n",
       "      <td>-0.000776</td>\n",
       "      <td>-0.015766</td>\n",
       "      <td>-0.005372</td>\n",
       "    </tr>\n",
       "    <tr>\n",
       "      <th>2019-04-26</th>\n",
       "      <td>0.008149</td>\n",
       "      <td>0.009162</td>\n",
       "      <td>0.012355</td>\n",
       "      <td>0.010434</td>\n",
       "      <td>0.002981</td>\n",
       "      <td>0.005256</td>\n",
       "      <td>0.002254</td>\n",
       "      <td>0.025433</td>\n",
       "      <td>0.020202</td>\n",
       "      <td>0.017702</td>\n",
       "      <td>0.020901</td>\n",
       "    </tr>\n",
       "    <tr>\n",
       "      <th>2019-04-29</th>\n",
       "      <td>0.001254</td>\n",
       "      <td>0.002719</td>\n",
       "      <td>0.006251</td>\n",
       "      <td>0.005223</td>\n",
       "      <td>0.005208</td>\n",
       "      <td>0.002829</td>\n",
       "      <td>-0.000788</td>\n",
       "      <td>-0.006254</td>\n",
       "      <td>-0.042650</td>\n",
       "      <td>-0.008057</td>\n",
       "      <td>-0.018797</td>\n",
       "    </tr>\n",
       "    <tr>\n",
       "      <th>2019-04-30</th>\n",
       "      <td>-0.001295</td>\n",
       "      <td>-0.002211</td>\n",
       "      <td>-0.000259</td>\n",
       "      <td>-0.003702</td>\n",
       "      <td>-0.002944</td>\n",
       "      <td>-0.001570</td>\n",
       "      <td>-0.001183</td>\n",
       "      <td>-0.006144</td>\n",
       "      <td>0.035402</td>\n",
       "      <td>-0.003469</td>\n",
       "      <td>0.008510</td>\n",
       "    </tr>\n",
       "    <tr>\n",
       "      <th>2019-05-01</th>\n",
       "      <td>-0.005847</td>\n",
       "      <td>-0.001341</td>\n",
       "      <td>-0.007936</td>\n",
       "      <td>-0.007833</td>\n",
       "      <td>0.000094</td>\n",
       "      <td>-0.007358</td>\n",
       "      <td>-0.004703</td>\n",
       "      <td>-0.007786</td>\n",
       "      <td>0.014214</td>\n",
       "      <td>0.022319</td>\n",
       "      <td>0.009487</td>\n",
       "    </tr>\n",
       "  </tbody>\n",
       "</table>\n",
       "<p>82 rows × 11 columns</p>\n",
       "</div>"
      ],
      "text/plain": [
       "               Soros   Paulson     Tiger  Berkshire     Algo1     Algo2  \\\n",
       "Date                                                                      \n",
       "2019-01-03 -0.007848 -0.007403 -0.008478  -0.032053  0.015246 -0.011792   \n",
       "2019-01-04  0.029881  0.027032  0.033560   0.061341  0.017622  0.030509   \n",
       "2019-01-07  0.009051  0.014475  0.014111   0.017185  0.014748  0.016942   \n",
       "2019-01-08  0.010760  0.008050  0.001544   0.005851  0.010825  0.010479   \n",
       "2019-01-09  0.008630 -0.000800 -0.000534   0.019788  0.000214  0.009658   \n",
       "...              ...       ...       ...        ...       ...       ...   \n",
       "2019-04-25 -0.000285 -0.001291 -0.005153   0.004848  0.000682 -0.007247   \n",
       "2019-04-26  0.008149  0.009162  0.012355   0.010434  0.002981  0.005256   \n",
       "2019-04-29  0.001254  0.002719  0.006251   0.005223  0.005208  0.002829   \n",
       "2019-04-30 -0.001295 -0.002211 -0.000259  -0.003702 -0.002944 -0.001570   \n",
       "2019-05-01 -0.005847 -0.001341 -0.007936  -0.007833  0.000094 -0.007358   \n",
       "\n",
       "              SP_TSX      AMZN      MRNA      NFLX  PORTFOLIO  \n",
       "Date                                                           \n",
       "2019-01-03 -0.009368 -0.025242  0.011089  0.013226  -0.000306  \n",
       "2019-01-04  0.015048  0.050064  0.094194  0.097235   0.079692  \n",
       "2019-01-07  0.005373  0.034353 -0.040684  0.059717   0.017618  \n",
       "2019-01-08  0.006965  0.016612  0.041795  0.015634   0.024434  \n",
       "2019-01-09  0.013665  0.001714 -0.036578 -0.000968  -0.011824  \n",
       "...              ...       ...       ...       ...        ...  \n",
       "2019-04-25 -0.000628  0.000263 -0.000776 -0.015766  -0.005372  \n",
       "2019-04-26  0.002254  0.025433  0.020202  0.017702   0.020901  \n",
       "2019-04-29 -0.000788 -0.006254 -0.042650 -0.008057  -0.018797  \n",
       "2019-04-30 -0.001183 -0.006144  0.035402 -0.003469   0.008510  \n",
       "2019-05-01 -0.004703 -0.007786  0.014214  0.022319   0.009487  \n",
       "\n",
       "[82 rows x 11 columns]"
      ]
     },
     "execution_count": 50,
     "metadata": {},
     "output_type": "execute_result"
    }
   ],
   "source": [
    "# Join your returns DataFrame to the original returns DataFrame\n",
    "# Combine all stocks in a single DataFrame\n",
    "custportfolio_combined_returns_df = pd.concat(\n",
    "[combined_daily_returns_df, custportfolio_combined_daily_returns_df,custportfolio_weighted_returns_df], axis=\"columns\", join=\"inner\"\n",
    ")\n",
    "custportfolio_combined_returns_df\n"
   ]
  },
  {
   "cell_type": "code",
   "execution_count": 51,
   "metadata": {},
   "outputs": [
    {
     "data": {
      "text/plain": [
       "Soros        0\n",
       "Paulson      0\n",
       "Tiger        0\n",
       "Berkshire    0\n",
       "Algo1        0\n",
       "Algo2        0\n",
       "SP_TSX       0\n",
       "AMZN         0\n",
       "MRNA         0\n",
       "NFLX         0\n",
       "PORTFOLIO    0\n",
       "dtype: int64"
      ]
     },
     "execution_count": 51,
     "metadata": {},
     "output_type": "execute_result"
    }
   ],
   "source": [
    "# Only compare dates where return data exists for all the stocks (drop NaNs)\n",
    "\n",
    "custportfolio_combined_returns_df = custportfolio_combined_returns_df.dropna().copy()\n",
    "custportfolio_combined_returns_df.isnull().sum()"
   ]
  },
  {
   "cell_type": "code",
   "execution_count": 52,
   "metadata": {},
   "outputs": [
    {
     "data": {
      "text/html": [
       "<div>\n",
       "<style scoped>\n",
       "    .dataframe tbody tr th:only-of-type {\n",
       "        vertical-align: middle;\n",
       "    }\n",
       "\n",
       "    .dataframe tbody tr th {\n",
       "        vertical-align: top;\n",
       "    }\n",
       "\n",
       "    .dataframe thead th {\n",
       "        text-align: right;\n",
       "    }\n",
       "</style>\n",
       "<table border=\"1\" class=\"dataframe\">\n",
       "  <thead>\n",
       "    <tr style=\"text-align: right;\">\n",
       "      <th></th>\n",
       "      <th>Soros</th>\n",
       "      <th>Paulson</th>\n",
       "      <th>Tiger</th>\n",
       "      <th>Berkshire</th>\n",
       "      <th>Algo1</th>\n",
       "      <th>Algo2</th>\n",
       "      <th>SP_TSX</th>\n",
       "      <th>AMZN</th>\n",
       "      <th>MRNA</th>\n",
       "      <th>NFLX</th>\n",
       "      <th>PORTFOLIO</th>\n",
       "    </tr>\n",
       "    <tr>\n",
       "      <th>Date</th>\n",
       "      <th></th>\n",
       "      <th></th>\n",
       "      <th></th>\n",
       "      <th></th>\n",
       "      <th></th>\n",
       "      <th></th>\n",
       "      <th></th>\n",
       "      <th></th>\n",
       "      <th></th>\n",
       "      <th></th>\n",
       "      <th></th>\n",
       "    </tr>\n",
       "  </thead>\n",
       "  <tbody>\n",
       "    <tr>\n",
       "      <th>2019-01-03</th>\n",
       "      <td>-0.007848</td>\n",
       "      <td>-0.007403</td>\n",
       "      <td>-0.008478</td>\n",
       "      <td>-0.032053</td>\n",
       "      <td>0.015246</td>\n",
       "      <td>-0.011792</td>\n",
       "      <td>-0.009368</td>\n",
       "      <td>-0.025242</td>\n",
       "      <td>0.011089</td>\n",
       "      <td>0.013226</td>\n",
       "      <td>-0.000306</td>\n",
       "    </tr>\n",
       "    <tr>\n",
       "      <th>2019-01-04</th>\n",
       "      <td>0.029881</td>\n",
       "      <td>0.027032</td>\n",
       "      <td>0.033560</td>\n",
       "      <td>0.061341</td>\n",
       "      <td>0.017622</td>\n",
       "      <td>0.030509</td>\n",
       "      <td>0.015048</td>\n",
       "      <td>0.050064</td>\n",
       "      <td>0.094194</td>\n",
       "      <td>0.097235</td>\n",
       "      <td>0.079692</td>\n",
       "    </tr>\n",
       "    <tr>\n",
       "      <th>2019-01-07</th>\n",
       "      <td>0.009051</td>\n",
       "      <td>0.014475</td>\n",
       "      <td>0.014111</td>\n",
       "      <td>0.017185</td>\n",
       "      <td>0.014748</td>\n",
       "      <td>0.016942</td>\n",
       "      <td>0.005373</td>\n",
       "      <td>0.034353</td>\n",
       "      <td>-0.040684</td>\n",
       "      <td>0.059717</td>\n",
       "      <td>0.017618</td>\n",
       "    </tr>\n",
       "    <tr>\n",
       "      <th>2019-01-08</th>\n",
       "      <td>0.010760</td>\n",
       "      <td>0.008050</td>\n",
       "      <td>0.001544</td>\n",
       "      <td>0.005851</td>\n",
       "      <td>0.010825</td>\n",
       "      <td>0.010479</td>\n",
       "      <td>0.006965</td>\n",
       "      <td>0.016612</td>\n",
       "      <td>0.041795</td>\n",
       "      <td>0.015634</td>\n",
       "      <td>0.024434</td>\n",
       "    </tr>\n",
       "    <tr>\n",
       "      <th>2019-01-09</th>\n",
       "      <td>0.008630</td>\n",
       "      <td>-0.000800</td>\n",
       "      <td>-0.000534</td>\n",
       "      <td>0.019788</td>\n",
       "      <td>0.000214</td>\n",
       "      <td>0.009658</td>\n",
       "      <td>0.013665</td>\n",
       "      <td>0.001714</td>\n",
       "      <td>-0.036578</td>\n",
       "      <td>-0.000968</td>\n",
       "      <td>-0.011824</td>\n",
       "    </tr>\n",
       "    <tr>\n",
       "      <th>...</th>\n",
       "      <td>...</td>\n",
       "      <td>...</td>\n",
       "      <td>...</td>\n",
       "      <td>...</td>\n",
       "      <td>...</td>\n",
       "      <td>...</td>\n",
       "      <td>...</td>\n",
       "      <td>...</td>\n",
       "      <td>...</td>\n",
       "      <td>...</td>\n",
       "      <td>...</td>\n",
       "    </tr>\n",
       "    <tr>\n",
       "      <th>2019-04-25</th>\n",
       "      <td>-0.000285</td>\n",
       "      <td>-0.001291</td>\n",
       "      <td>-0.005153</td>\n",
       "      <td>0.004848</td>\n",
       "      <td>0.000682</td>\n",
       "      <td>-0.007247</td>\n",
       "      <td>-0.000628</td>\n",
       "      <td>0.000263</td>\n",
       "      <td>-0.000776</td>\n",
       "      <td>-0.015766</td>\n",
       "      <td>-0.005372</td>\n",
       "    </tr>\n",
       "    <tr>\n",
       "      <th>2019-04-26</th>\n",
       "      <td>0.008149</td>\n",
       "      <td>0.009162</td>\n",
       "      <td>0.012355</td>\n",
       "      <td>0.010434</td>\n",
       "      <td>0.002981</td>\n",
       "      <td>0.005256</td>\n",
       "      <td>0.002254</td>\n",
       "      <td>0.025433</td>\n",
       "      <td>0.020202</td>\n",
       "      <td>0.017702</td>\n",
       "      <td>0.020901</td>\n",
       "    </tr>\n",
       "    <tr>\n",
       "      <th>2019-04-29</th>\n",
       "      <td>0.001254</td>\n",
       "      <td>0.002719</td>\n",
       "      <td>0.006251</td>\n",
       "      <td>0.005223</td>\n",
       "      <td>0.005208</td>\n",
       "      <td>0.002829</td>\n",
       "      <td>-0.000788</td>\n",
       "      <td>-0.006254</td>\n",
       "      <td>-0.042650</td>\n",
       "      <td>-0.008057</td>\n",
       "      <td>-0.018797</td>\n",
       "    </tr>\n",
       "    <tr>\n",
       "      <th>2019-04-30</th>\n",
       "      <td>-0.001295</td>\n",
       "      <td>-0.002211</td>\n",
       "      <td>-0.000259</td>\n",
       "      <td>-0.003702</td>\n",
       "      <td>-0.002944</td>\n",
       "      <td>-0.001570</td>\n",
       "      <td>-0.001183</td>\n",
       "      <td>-0.006144</td>\n",
       "      <td>0.035402</td>\n",
       "      <td>-0.003469</td>\n",
       "      <td>0.008510</td>\n",
       "    </tr>\n",
       "    <tr>\n",
       "      <th>2019-05-01</th>\n",
       "      <td>-0.005847</td>\n",
       "      <td>-0.001341</td>\n",
       "      <td>-0.007936</td>\n",
       "      <td>-0.007833</td>\n",
       "      <td>0.000094</td>\n",
       "      <td>-0.007358</td>\n",
       "      <td>-0.004703</td>\n",
       "      <td>-0.007786</td>\n",
       "      <td>0.014214</td>\n",
       "      <td>0.022319</td>\n",
       "      <td>0.009487</td>\n",
       "    </tr>\n",
       "  </tbody>\n",
       "</table>\n",
       "<p>82 rows × 11 columns</p>\n",
       "</div>"
      ],
      "text/plain": [
       "               Soros   Paulson     Tiger  Berkshire     Algo1     Algo2  \\\n",
       "Date                                                                      \n",
       "2019-01-03 -0.007848 -0.007403 -0.008478  -0.032053  0.015246 -0.011792   \n",
       "2019-01-04  0.029881  0.027032  0.033560   0.061341  0.017622  0.030509   \n",
       "2019-01-07  0.009051  0.014475  0.014111   0.017185  0.014748  0.016942   \n",
       "2019-01-08  0.010760  0.008050  0.001544   0.005851  0.010825  0.010479   \n",
       "2019-01-09  0.008630 -0.000800 -0.000534   0.019788  0.000214  0.009658   \n",
       "...              ...       ...       ...        ...       ...       ...   \n",
       "2019-04-25 -0.000285 -0.001291 -0.005153   0.004848  0.000682 -0.007247   \n",
       "2019-04-26  0.008149  0.009162  0.012355   0.010434  0.002981  0.005256   \n",
       "2019-04-29  0.001254  0.002719  0.006251   0.005223  0.005208  0.002829   \n",
       "2019-04-30 -0.001295 -0.002211 -0.000259  -0.003702 -0.002944 -0.001570   \n",
       "2019-05-01 -0.005847 -0.001341 -0.007936  -0.007833  0.000094 -0.007358   \n",
       "\n",
       "              SP_TSX      AMZN      MRNA      NFLX  PORTFOLIO  \n",
       "Date                                                           \n",
       "2019-01-03 -0.009368 -0.025242  0.011089  0.013226  -0.000306  \n",
       "2019-01-04  0.015048  0.050064  0.094194  0.097235   0.079692  \n",
       "2019-01-07  0.005373  0.034353 -0.040684  0.059717   0.017618  \n",
       "2019-01-08  0.006965  0.016612  0.041795  0.015634   0.024434  \n",
       "2019-01-09  0.013665  0.001714 -0.036578 -0.000968  -0.011824  \n",
       "...              ...       ...       ...       ...        ...  \n",
       "2019-04-25 -0.000628  0.000263 -0.000776 -0.015766  -0.005372  \n",
       "2019-04-26  0.002254  0.025433  0.020202  0.017702   0.020901  \n",
       "2019-04-29 -0.000788 -0.006254 -0.042650 -0.008057  -0.018797  \n",
       "2019-04-30 -0.001183 -0.006144  0.035402 -0.003469   0.008510  \n",
       "2019-05-01 -0.004703 -0.007786  0.014214  0.022319   0.009487  \n",
       "\n",
       "[82 rows x 11 columns]"
      ]
     },
     "execution_count": 52,
     "metadata": {},
     "output_type": "execute_result"
    }
   ],
   "source": [
    "# Display Results\n",
    "custportfolio_combined_returns_df"
   ]
  },
  {
   "cell_type": "markdown",
   "metadata": {},
   "source": [
    "## 7.4 Re-run the risk analysis with your portfolio to see how it compares to the others <a class=\"anchor\" id=\"7_4\"></a>"
   ]
  },
  {
   "cell_type": "markdown",
   "metadata": {},
   "source": [
    "### 7.4.1 Calculate the Annualized Standard Deviation <a class=\"anchor\" id=\"7_4_1\"></a>"
   ]
  },
  {
   "cell_type": "code",
   "execution_count": 53,
   "metadata": {},
   "outputs": [
    {
     "data": {
      "text/plain": [
       "SP_TSX       0.004543\n",
       "Algo1        0.005556\n",
       "Paulson      0.006778\n",
       "Soros        0.007292\n",
       "Algo2        0.007543\n",
       "Berkshire    0.012546\n",
       "AMZN         0.017067\n",
       "Tiger        0.017678\n",
       "PORTFOLIO    0.021239\n",
       "NFLX         0.023837\n",
       "MRNA         0.045472\n",
       "dtype: float64"
      ]
     },
     "execution_count": 53,
     "metadata": {},
     "output_type": "execute_result"
    }
   ],
   "source": [
    "# Calculate the daily standard deviations of all portfolios and rank in order of volatility.Least to most volatile. \n",
    "custportfolio_daily_std_df = custportfolio_combined_returns_df.std()\n",
    "custportfolio_daily_std_df = custportfolio_daily_std_df.sort_values(ascending=True)\n",
    "custportfolio_daily_std_df"
   ]
  },
  {
   "cell_type": "code",
   "execution_count": 54,
   "metadata": {},
   "outputs": [
    {
     "data": {
      "text/plain": [
       "<AxesSubplot:title={'center':'Daily Standard Deviation'}>"
      ]
     },
     "execution_count": 54,
     "metadata": {},
     "output_type": "execute_result"
    },
    {
     "data": {
      "image/png": "[encoded data removed]",
      "text/plain": [
       "<Figure size 720x360 with 1 Axes>"
      ]
     },
     "metadata": {},
     "output_type": "display_data"
    }
   ],
   "source": [
    "# Visualize the sharpe ratios as a bar plot\n",
    "custportfolio_daily_std_df.plot.bar(title=\"Daily Standard Deviation\")"
   ]
  },
  {
   "cell_type": "code",
   "execution_count": 55,
   "metadata": {},
   "outputs": [
    {
     "data": {
      "text/plain": [
       "SP_TSX       0.072113\n",
       "Algo1        0.088197\n",
       "Paulson      0.107596\n",
       "Soros        0.115762\n",
       "Algo2        0.119742\n",
       "Berkshire    0.199159\n",
       "AMZN         0.270936\n",
       "Tiger        0.280624\n",
       "PORTFOLIO    0.337157\n",
       "NFLX         0.378404\n",
       "MRNA         0.721839\n",
       "dtype: float64"
      ]
     },
     "execution_count": 55,
     "metadata": {},
     "output_type": "execute_result"
    }
   ],
   "source": [
    "# Calculate the annualized standard deviation (252 trading days)\n",
    "custportfolio_annualized_std_df = custportfolio_daily_std_df * np.sqrt(252)\n",
    "custportfolio_annualized_std_df"
   ]
  },
  {
   "cell_type": "code",
   "execution_count": 56,
   "metadata": {},
   "outputs": [
    {
     "data": {
      "text/plain": [
       "<AxesSubplot:title={'center':'Annualised Standard Deviation'}>"
      ]
     },
     "execution_count": 56,
     "metadata": {},
     "output_type": "execute_result"
    },
    {
     "data": {
      "image/png": "[encoded data removed]",
      "text/plain": [
       "<Figure size 720x360 with 1 Axes>"
      ]
     },
     "metadata": {},
     "output_type": "display_data"
    }
   ],
   "source": [
    "# Visualize the annualised Standard Deviation as a bar plot\n",
    "custportfolio_annualized_std_df.plot.bar(title=\"Annualised Standard Deviation\")"
   ]
  },
  {
   "cell_type": "markdown",
   "metadata": {},
   "source": [
    "### 7.4.2 Calculate and plot rolling `std` with 21-day window <a class=\"anchor\" id=\"7_4_2\"></a>"
   ]
  },
  {
   "cell_type": "code",
   "execution_count": 57,
   "metadata": {},
   "outputs": [
    {
     "data": {
      "text/html": [
       "<div>\n",
       "<style scoped>\n",
       "    .dataframe tbody tr th:only-of-type {\n",
       "        vertical-align: middle;\n",
       "    }\n",
       "\n",
       "    .dataframe tbody tr th {\n",
       "        vertical-align: top;\n",
       "    }\n",
       "\n",
       "    .dataframe thead th {\n",
       "        text-align: right;\n",
       "    }\n",
       "</style>\n",
       "<table border=\"1\" class=\"dataframe\">\n",
       "  <thead>\n",
       "    <tr style=\"text-align: right;\">\n",
       "      <th></th>\n",
       "      <th>Soros</th>\n",
       "      <th>Paulson</th>\n",
       "      <th>Tiger</th>\n",
       "      <th>Berkshire</th>\n",
       "      <th>Algo1</th>\n",
       "      <th>Algo2</th>\n",
       "      <th>SP_TSX</th>\n",
       "      <th>AMZN</th>\n",
       "      <th>MRNA</th>\n",
       "      <th>NFLX</th>\n",
       "      <th>PORTFOLIO</th>\n",
       "    </tr>\n",
       "    <tr>\n",
       "      <th>Date</th>\n",
       "      <th></th>\n",
       "      <th></th>\n",
       "      <th></th>\n",
       "      <th></th>\n",
       "      <th></th>\n",
       "      <th></th>\n",
       "      <th></th>\n",
       "      <th></th>\n",
       "      <th></th>\n",
       "      <th></th>\n",
       "      <th></th>\n",
       "    </tr>\n",
       "  </thead>\n",
       "  <tbody>\n",
       "    <tr>\n",
       "      <th>2019-04-25</th>\n",
       "      <td>0.004145</td>\n",
       "      <td>0.005572</td>\n",
       "      <td>0.004917</td>\n",
       "      <td>0.006641</td>\n",
       "      <td>0.005801</td>\n",
       "      <td>0.005764</td>\n",
       "      <td>0.003370</td>\n",
       "      <td>0.008214</td>\n",
       "      <td>0.051563</td>\n",
       "      <td>0.020046</td>\n",
       "      <td>0.019542</td>\n",
       "    </tr>\n",
       "    <tr>\n",
       "      <th>2019-04-26</th>\n",
       "      <td>0.004117</td>\n",
       "      <td>0.005649</td>\n",
       "      <td>0.005424</td>\n",
       "      <td>0.006599</td>\n",
       "      <td>0.005562</td>\n",
       "      <td>0.005700</td>\n",
       "      <td>0.003321</td>\n",
       "      <td>0.008980</td>\n",
       "      <td>0.050520</td>\n",
       "      <td>0.019824</td>\n",
       "      <td>0.018867</td>\n",
       "    </tr>\n",
       "    <tr>\n",
       "      <th>2019-04-29</th>\n",
       "      <td>0.004123</td>\n",
       "      <td>0.005374</td>\n",
       "      <td>0.005438</td>\n",
       "      <td>0.006584</td>\n",
       "      <td>0.005251</td>\n",
       "      <td>0.005622</td>\n",
       "      <td>0.003356</td>\n",
       "      <td>0.009299</td>\n",
       "      <td>0.052098</td>\n",
       "      <td>0.019969</td>\n",
       "      <td>0.019736</td>\n",
       "    </tr>\n",
       "    <tr>\n",
       "      <th>2019-04-30</th>\n",
       "      <td>0.004199</td>\n",
       "      <td>0.005408</td>\n",
       "      <td>0.005419</td>\n",
       "      <td>0.006323</td>\n",
       "      <td>0.005294</td>\n",
       "      <td>0.005600</td>\n",
       "      <td>0.003240</td>\n",
       "      <td>0.009574</td>\n",
       "      <td>0.052105</td>\n",
       "      <td>0.019996</td>\n",
       "      <td>0.019653</td>\n",
       "    </tr>\n",
       "    <tr>\n",
       "      <th>2019-05-01</th>\n",
       "      <td>0.004271</td>\n",
       "      <td>0.005009</td>\n",
       "      <td>0.005744</td>\n",
       "      <td>0.006143</td>\n",
       "      <td>0.004972</td>\n",
       "      <td>0.005686</td>\n",
       "      <td>0.003150</td>\n",
       "      <td>0.009245</td>\n",
       "      <td>0.052105</td>\n",
       "      <td>0.019583</td>\n",
       "      <td>0.019427</td>\n",
       "    </tr>\n",
       "  </tbody>\n",
       "</table>\n",
       "</div>"
      ],
      "text/plain": [
       "               Soros   Paulson     Tiger  Berkshire     Algo1     Algo2  \\\n",
       "Date                                                                      \n",
       "2019-04-25  0.004145  0.005572  0.004917   0.006641  0.005801  0.005764   \n",
       "2019-04-26  0.004117  0.005649  0.005424   0.006599  0.005562  0.005700   \n",
       "2019-04-29  0.004123  0.005374  0.005438   0.006584  0.005251  0.005622   \n",
       "2019-04-30  0.004199  0.005408  0.005419   0.006323  0.005294  0.005600   \n",
       "2019-05-01  0.004271  0.005009  0.005744   0.006143  0.004972  0.005686   \n",
       "\n",
       "              SP_TSX      AMZN      MRNA      NFLX  PORTFOLIO  \n",
       "Date                                                           \n",
       "2019-04-25  0.003370  0.008214  0.051563  0.020046   0.019542  \n",
       "2019-04-26  0.003321  0.008980  0.050520  0.019824   0.018867  \n",
       "2019-04-29  0.003356  0.009299  0.052098  0.019969   0.019736  \n",
       "2019-04-30  0.003240  0.009574  0.052105  0.019996   0.019653  \n",
       "2019-05-01  0.003150  0.009245  0.052105  0.019583   0.019427  "
      ]
     },
     "execution_count": 57,
     "metadata": {},
     "output_type": "execute_result"
    }
   ],
   "source": [
    "# Calculate rolling standard deviation\n",
    "custportfolio_rolling_std_df=custportfolio_combined_returns_df.rolling(window=21).std()\n",
    "custportfolio_rolling_std_df.tail(5)"
   ]
  },
  {
   "cell_type": "code",
   "execution_count": 58,
   "metadata": {},
   "outputs": [
    {
     "data": {
      "text/plain": [
       "<AxesSubplot:title={'center':'Rolling 21-Day Standard Deviation'}, xlabel='Date'>"
      ]
     },
     "execution_count": 58,
     "metadata": {},
     "output_type": "execute_result"
    },
    {
     "data": {
      "image/png": "[encoded data removed]",
      "text/plain": [
       "<Figure size 720x360 with 1 Axes>"
      ]
     },
     "metadata": {},
     "output_type": "display_data"
    }
   ],
   "source": [
    "# Plot rolling standard deviation\n",
    "custportfolio_rolling_std_df.plot.bar(title=\"Rolling 21-Day Standard Deviation\")"
   ]
  },
  {
   "cell_type": "markdown",
   "metadata": {},
   "source": [
    "### 7.4.3 Calculate and plot the correlation <a class=\"anchor\" id=\"7_4_3\"></a>"
   ]
  },
  {
   "cell_type": "code",
   "execution_count": 59,
   "metadata": {},
   "outputs": [
    {
     "data": {
      "text/html": [
       "<div>\n",
       "<style scoped>\n",
       "    .dataframe tbody tr th:only-of-type {\n",
       "        vertical-align: middle;\n",
       "    }\n",
       "\n",
       "    .dataframe tbody tr th {\n",
       "        vertical-align: top;\n",
       "    }\n",
       "\n",
       "    .dataframe thead th {\n",
       "        text-align: right;\n",
       "    }\n",
       "</style>\n",
       "<table border=\"1\" class=\"dataframe\">\n",
       "  <thead>\n",
       "    <tr style=\"text-align: right;\">\n",
       "      <th></th>\n",
       "      <th>Soros</th>\n",
       "      <th>Paulson</th>\n",
       "      <th>Tiger</th>\n",
       "      <th>Berkshire</th>\n",
       "      <th>Algo1</th>\n",
       "      <th>Algo2</th>\n",
       "      <th>SP_TSX</th>\n",
       "      <th>AMZN</th>\n",
       "      <th>MRNA</th>\n",
       "      <th>NFLX</th>\n",
       "      <th>PORTFOLIO</th>\n",
       "    </tr>\n",
       "  </thead>\n",
       "  <tbody>\n",
       "    <tr>\n",
       "      <th>Soros</th>\n",
       "      <td>1.000000</td>\n",
       "      <td>0.751013</td>\n",
       "      <td>0.363262</td>\n",
       "      <td>0.742055</td>\n",
       "      <td>0.099731</td>\n",
       "      <td>0.807354</td>\n",
       "      <td>0.656081</td>\n",
       "      <td>0.584938</td>\n",
       "      <td>0.289910</td>\n",
       "      <td>0.449368</td>\n",
       "      <td>0.526376</td>\n",
       "    </tr>\n",
       "    <tr>\n",
       "      <th>Paulson</th>\n",
       "      <td>0.751013</td>\n",
       "      <td>1.000000</td>\n",
       "      <td>0.278640</td>\n",
       "      <td>0.618352</td>\n",
       "      <td>0.156997</td>\n",
       "      <td>0.731323</td>\n",
       "      <td>0.448598</td>\n",
       "      <td>0.518067</td>\n",
       "      <td>0.360116</td>\n",
       "      <td>0.415399</td>\n",
       "      <td>0.545664</td>\n",
       "    </tr>\n",
       "    <tr>\n",
       "      <th>Tiger</th>\n",
       "      <td>0.363262</td>\n",
       "      <td>0.278640</td>\n",
       "      <td>1.000000</td>\n",
       "      <td>0.144963</td>\n",
       "      <td>0.029891</td>\n",
       "      <td>0.207660</td>\n",
       "      <td>0.258661</td>\n",
       "      <td>0.216128</td>\n",
       "      <td>0.062653</td>\n",
       "      <td>0.104902</td>\n",
       "      <td>0.140432</td>\n",
       "    </tr>\n",
       "    <tr>\n",
       "      <th>Berkshire</th>\n",
       "      <td>0.742055</td>\n",
       "      <td>0.618352</td>\n",
       "      <td>0.144963</td>\n",
       "      <td>1.000000</td>\n",
       "      <td>0.174493</td>\n",
       "      <td>0.772924</td>\n",
       "      <td>0.662842</td>\n",
       "      <td>0.719391</td>\n",
       "      <td>0.180964</td>\n",
       "      <td>0.561220</td>\n",
       "      <td>0.526485</td>\n",
       "    </tr>\n",
       "    <tr>\n",
       "      <th>Algo1</th>\n",
       "      <td>0.099731</td>\n",
       "      <td>0.156997</td>\n",
       "      <td>0.029891</td>\n",
       "      <td>0.174493</td>\n",
       "      <td>1.000000</td>\n",
       "      <td>0.126729</td>\n",
       "      <td>0.103660</td>\n",
       "      <td>0.137123</td>\n",
       "      <td>0.079949</td>\n",
       "      <td>0.264269</td>\n",
       "      <td>0.190726</td>\n",
       "    </tr>\n",
       "    <tr>\n",
       "      <th>Algo2</th>\n",
       "      <td>0.807354</td>\n",
       "      <td>0.731323</td>\n",
       "      <td>0.207660</td>\n",
       "      <td>0.772924</td>\n",
       "      <td>0.126729</td>\n",
       "      <td>1.000000</td>\n",
       "      <td>0.707503</td>\n",
       "      <td>0.701730</td>\n",
       "      <td>0.276103</td>\n",
       "      <td>0.489400</td>\n",
       "      <td>0.562419</td>\n",
       "    </tr>\n",
       "    <tr>\n",
       "      <th>SP_TSX</th>\n",
       "      <td>0.656081</td>\n",
       "      <td>0.448598</td>\n",
       "      <td>0.258661</td>\n",
       "      <td>0.662842</td>\n",
       "      <td>0.103660</td>\n",
       "      <td>0.707503</td>\n",
       "      <td>1.000000</td>\n",
       "      <td>0.509003</td>\n",
       "      <td>0.194460</td>\n",
       "      <td>0.369688</td>\n",
       "      <td>0.409291</td>\n",
       "    </tr>\n",
       "    <tr>\n",
       "      <th>AMZN</th>\n",
       "      <td>0.584938</td>\n",
       "      <td>0.518067</td>\n",
       "      <td>0.216128</td>\n",
       "      <td>0.719391</td>\n",
       "      <td>0.137123</td>\n",
       "      <td>0.701730</td>\n",
       "      <td>0.509003</td>\n",
       "      <td>1.000000</td>\n",
       "      <td>0.195430</td>\n",
       "      <td>0.597521</td>\n",
       "      <td>0.624564</td>\n",
       "    </tr>\n",
       "    <tr>\n",
       "      <th>MRNA</th>\n",
       "      <td>0.289910</td>\n",
       "      <td>0.360116</td>\n",
       "      <td>0.062653</td>\n",
       "      <td>0.180964</td>\n",
       "      <td>0.079949</td>\n",
       "      <td>0.276103</td>\n",
       "      <td>0.194460</td>\n",
       "      <td>0.195430</td>\n",
       "      <td>1.000000</td>\n",
       "      <td>0.196299</td>\n",
       "      <td>0.831045</td>\n",
       "    </tr>\n",
       "    <tr>\n",
       "      <th>NFLX</th>\n",
       "      <td>0.449368</td>\n",
       "      <td>0.415399</td>\n",
       "      <td>0.104902</td>\n",
       "      <td>0.561220</td>\n",
       "      <td>0.264269</td>\n",
       "      <td>0.489400</td>\n",
       "      <td>0.369688</td>\n",
       "      <td>0.597521</td>\n",
       "      <td>0.196299</td>\n",
       "      <td>1.000000</td>\n",
       "      <td>0.667513</td>\n",
       "    </tr>\n",
       "    <tr>\n",
       "      <th>PORTFOLIO</th>\n",
       "      <td>0.526376</td>\n",
       "      <td>0.545664</td>\n",
       "      <td>0.140432</td>\n",
       "      <td>0.526485</td>\n",
       "      <td>0.190726</td>\n",
       "      <td>0.562419</td>\n",
       "      <td>0.409291</td>\n",
       "      <td>0.624564</td>\n",
       "      <td>0.831045</td>\n",
       "      <td>0.667513</td>\n",
       "      <td>1.000000</td>\n",
       "    </tr>\n",
       "  </tbody>\n",
       "</table>\n",
       "</div>"
      ],
      "text/plain": [
       "              Soros   Paulson     Tiger  Berkshire     Algo1     Algo2  \\\n",
       "Soros      1.000000  0.751013  0.363262   0.742055  0.099731  0.807354   \n",
       "Paulson    0.751013  1.000000  0.278640   0.618352  0.156997  0.731323   \n",
       "Tiger      0.363262  0.278640  1.000000   0.144963  0.029891  0.207660   \n",
       "Berkshire  0.742055  0.618352  0.144963   1.000000  0.174493  0.772924   \n",
       "Algo1      0.099731  0.156997  0.029891   0.174493  1.000000  0.126729   \n",
       "Algo2      0.807354  0.731323  0.207660   0.772924  0.126729  1.000000   \n",
       "SP_TSX     0.656081  0.448598  0.258661   0.662842  0.103660  0.707503   \n",
       "AMZN       0.584938  0.518067  0.216128   0.719391  0.137123  0.701730   \n",
       "MRNA       0.289910  0.360116  0.062653   0.180964  0.079949  0.276103   \n",
       "NFLX       0.449368  0.415399  0.104902   0.561220  0.264269  0.489400   \n",
       "PORTFOLIO  0.526376  0.545664  0.140432   0.526485  0.190726  0.562419   \n",
       "\n",
       "             SP_TSX      AMZN      MRNA      NFLX  PORTFOLIO  \n",
       "Soros      0.656081  0.584938  0.289910  0.449368   0.526376  \n",
       "Paulson    0.448598  0.518067  0.360116  0.415399   0.545664  \n",
       "Tiger      0.258661  0.216128  0.062653  0.104902   0.140432  \n",
       "Berkshire  0.662842  0.719391  0.180964  0.561220   0.526485  \n",
       "Algo1      0.103660  0.137123  0.079949  0.264269   0.190726  \n",
       "Algo2      0.707503  0.701730  0.276103  0.489400   0.562419  \n",
       "SP_TSX     1.000000  0.509003  0.194460  0.369688   0.409291  \n",
       "AMZN       0.509003  1.000000  0.195430  0.597521   0.624564  \n",
       "MRNA       0.194460  0.195430  1.000000  0.196299   0.831045  \n",
       "NFLX       0.369688  0.597521  0.196299  1.000000   0.667513  \n",
       "PORTFOLIO  0.409291  0.624564  0.831045  0.667513   1.000000  "
      ]
     },
     "execution_count": 59,
     "metadata": {},
     "output_type": "execute_result"
    }
   ],
   "source": [
    "# Calculate and plot the correlation\n",
    "custportfolio_correlation_df = custportfolio_combined_returns_df.corr()\n",
    "custportfolio_correlation_df"
   ]
  },
  {
   "cell_type": "code",
   "execution_count": 60,
   "metadata": {},
   "outputs": [
    {
     "data": {
      "text/plain": [
       "<AxesSubplot:>"
      ]
     },
     "execution_count": 60,
     "metadata": {},
     "output_type": "execute_result"
    },
    {
     "data": {
      "image/png": "[encoded data removed]",
      "text/plain": [
       "<Figure size 720x360 with 2 Axes>"
      ]
     },
     "metadata": {},
     "output_type": "display_data"
    }
   ],
   "source": [
    "# Display de correlation matrix\n",
    "sb.heatmap(custportfolio_correlation_df, vmin=-1, vmax=1)"
   ]
  },
  {
   "cell_type": "markdown",
   "metadata": {},
   "source": [
    "### 7.4.4 Calculate and Plot the 60-day Rolling Beta for Your Portfolio compared to the S&P 60 TSX <a class=\"anchor\" id=\"7_4_4\"></a>"
   ]
  },
  {
   "cell_type": "code",
   "execution_count": 61,
   "metadata": {},
   "outputs": [
    {
     "data": {
      "text/plain": [
       "3.948930734019825e-05"
      ]
     },
     "execution_count": 61,
     "metadata": {},
     "output_type": "execute_result"
    }
   ],
   "source": [
    "# Calculate and plot Beta\n",
    "# Calculate covariance of a single portfolio\n",
    "custportfolio_covariance_df = custportfolio_combined_returns_df['PORTFOLIO'].cov(custportfolio_combined_returns_df['SP_TSX'])\n",
    "custportfolio_covariance_df"
   ]
  },
  {
   "cell_type": "code",
   "execution_count": 62,
   "metadata": {},
   "outputs": [
    {
     "data": {
      "text/plain": [
       "2.063627134388946e-05"
      ]
     },
     "execution_count": 62,
     "metadata": {},
     "output_type": "execute_result"
    }
   ],
   "source": [
    "# Calculate variance of S&P TSX\n",
    "custportfolio_variance_df = custportfolio_combined_returns_df['SP_TSX'].var()\n",
    "custportfolio_variance_df"
   ]
  },
  {
   "cell_type": "code",
   "execution_count": 63,
   "metadata": {},
   "outputs": [
    {
     "data": {
      "text/plain": [
       "1.9135873279690763"
      ]
     },
     "execution_count": 63,
     "metadata": {},
     "output_type": "execute_result"
    }
   ],
   "source": [
    "# Computing beta\n",
    "custportfolio_beta = custportfolio_covariance_df / custportfolio_variance_df\n",
    "custportfolio_beta"
   ]
  },
  {
   "cell_type": "markdown",
   "metadata": {},
   "source": [
    "### 7.4.5 Using the daily returns, calculate and visualize the Sharpe ratios using a bar plot <a class=\"anchor\" id=\"7_4_5\"></a>"
   ]
  },
  {
   "cell_type": "code",
   "execution_count": 64,
   "metadata": {},
   "outputs": [
    {
     "data": {
      "text/plain": [
       "SP_TSX       5.865641\n",
       "Soros        4.859864\n",
       "Algo2        4.555069\n",
       "Berkshire    4.262676\n",
       "PORTFOLIO    3.691974\n",
       "Algo1        3.582457\n",
       "NFLX         3.010338\n",
       "MRNA         2.673625\n",
       "AMZN         2.594684\n",
       "Paulson      2.479188\n",
       "Tiger       -0.354035\n",
       "dtype: float64"
      ]
     },
     "execution_count": 64,
     "metadata": {},
     "output_type": "execute_result"
    }
   ],
   "source": [
    "# Calculate Annualized Sharpe Ratios\n",
    "custportfolio_sharpe_ratios_df = (custportfolio_combined_returns_df.mean() * 252) / (custportfolio_annualized_std_df)\n",
    "custportfolio_sharpe_ratios_df = custportfolio_sharpe_ratios_df.sort_values(ascending=False)\n",
    "custportfolio_sharpe_ratios_df"
   ]
  },
  {
   "cell_type": "code",
   "execution_count": 65,
   "metadata": {},
   "outputs": [
    {
     "data": {
      "text/plain": [
       "<AxesSubplot:title={'center':'Sharpe Ratios'}>"
      ]
     },
     "execution_count": 65,
     "metadata": {},
     "output_type": "execute_result"
    },
    {
     "data": {
      "image/png": "[encoded data removed]",
      "text/plain": [
       "<Figure size 720x360 with 1 Axes>"
      ]
     },
     "metadata": {},
     "output_type": "display_data"
    }
   ],
   "source": [
    "# Visualize the sharpe ratios as a bar plot\n",
    "custportfolio_sharpe_ratios_df.plot.bar(title=\"Sharpe Ratios\")"
   ]
  },
  {
   "cell_type": "markdown",
   "metadata": {},
   "source": [
    "### 7.4.6 How does your portfolio do? <a class=\"anchor\" id=\"7_4_6\"></a>\n",
    "\n",
    "Write your answer here!"
   ]
  },
  {
   "cell_type": "markdown",
   "metadata": {},
   "source": [
    "Based on the results my PORTFOLIO tracls well against the market and is comparatively stable with regards to volitality and stability of returns."
   ]
  }
 ],
 "metadata": {
  "file_extension": ".py",
  "kernelspec": {
   "display_name": "Python 3 (ipykernel)",
   "language": "python",
   "name": "python3"
  },
  "language_info": {
   "codemirror_mode": {
    "name": "ipython",
    "version": 3
   },
   "file_extension": ".py",
   "mimetype": "text/x-python",
   "name": "python",
   "nbconvert_exporter": "python",
   "pygments_lexer": "ipython3",
   "version": "3.9.7"
  },
  "mimetype": "text/x-python",
  "name": "python",
  "npconvert_exporter": "python",
  "pygments_lexer": "ipython3",
  "version": 3
 },
 "nbformat": 4,
 "nbformat_minor": 4
}
